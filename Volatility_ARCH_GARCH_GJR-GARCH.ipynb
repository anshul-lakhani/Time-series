{
 "cells": [
  {
   "cell_type": "code",
   "execution_count": 1,
   "metadata": {},
   "outputs": [
    {
     "name": "stderr",
     "output_type": "stream",
     "text": [
      "C:\\Users\\ANSHUL\\Anaconda3\\lib\\site-packages\\statsmodels\\compat\\pandas.py:49: FutureWarning: The Panel class is removed from pandas. Accessing it from the top-level namespace will also be removed in the next version\n",
      "  data_klasses = (pandas.Series, pandas.DataFrame, pandas.Panel)\n"
     ]
    }
   ],
   "source": [
    "import pandas as pd\n",
    "import numpy as np\n",
    "import matplotlib.pyplot as plt\n",
    "from numpy.linalg import inv\n",
    "import math\n",
    "import statsmodels.api as sm\n",
    "from arch import arch_model\n",
    "\n",
    "GE_daily = pd.read_csv(r'C:\\\\MFE\\\\230e\\\\Assignments\\\\Assign-6\\\\GE_daily.csv')\n",
    "\n",
    "SP_daily = pd.read_csv(r'C:\\\\MFE\\\\230e\\\\Assignments\\\\Assign-6\\\\s&p_daily.csv')\n",
    "\n",
    "\n",
    "SP_monthly=SP_daily.set_index('Date')\n",
    "SP_monthly.index = pd.to_datetime(SP_monthly.index)\n",
    "SP_monthly=SP_monthly.loc[SP_monthly.groupby(SP_monthly.index.to_period('M')).apply(lambda x: x.index.max())]\n",
    "\n",
    "SP_yearly=SP_daily.set_index('Date')\n",
    "SP_yearly.index = pd.to_datetime(SP_yearly.index)\n",
    "SP_yearly=SP_yearly.loc[SP_yearly.groupby(SP_yearly.index.to_period('Y')).apply(lambda x: x.index.max())]\n",
    "\n",
    "\n",
    "\n",
    "GE_monthly=GE_daily.set_index('Date')\n",
    "GE_monthly.index = pd.to_datetime(GE_monthly.index)\n",
    "GE_monthly=GE_monthly.loc[GE_monthly.groupby(GE_monthly.index.to_period('M')).apply(lambda x: x.index.max())]\n",
    "\n",
    "GE_yearly=GE_daily.set_index('Date')\n",
    "GE_yearly.index = pd.to_datetime(GE_yearly.index)\n",
    "GE_yearly=GE_yearly.loc[GE_yearly.groupby(GE_yearly.index.to_period('Y')).apply(lambda x: x.index.max())]\n",
    "\n",
    "\n",
    "GE_daily_log=pd.DataFrame(np.log(GE_daily[\"Adj Close\"]))\n",
    "GE_monthly_log=pd.DataFrame(np.log(GE_monthly[\"Adj Close\"]))\n",
    "SP_daily_log=pd.DataFrame(np.log(SP_daily[\"Adj Close\"]))\n",
    "SP_monthly_log =pd.DataFrame(np.log(SP_monthly[\"Adj Close\"]))\n",
    "SP_yearly_log=np.log(SP_yearly[\"Adj Close\"])\n",
    "GE_yearly_log=np.log(GE_yearly[\"Adj Close\"])"
   ]
  },
  {
   "cell_type": "code",
   "execution_count": 2,
   "metadata": {},
   "outputs": [
    {
     "data": {
      "text/html": [
       "<div>\n",
       "<style scoped>\n",
       "    .dataframe tbody tr th:only-of-type {\n",
       "        vertical-align: middle;\n",
       "    }\n",
       "\n",
       "    .dataframe tbody tr th {\n",
       "        vertical-align: top;\n",
       "    }\n",
       "\n",
       "    .dataframe thead th {\n",
       "        text-align: right;\n",
       "    }\n",
       "</style>\n",
       "<table border=\"1\" class=\"dataframe\">\n",
       "  <thead>\n",
       "    <tr style=\"text-align: right;\">\n",
       "      <th></th>\n",
       "      <th>Open</th>\n",
       "      <th>High</th>\n",
       "      <th>Low</th>\n",
       "      <th>Close</th>\n",
       "      <th>Adj Close</th>\n",
       "      <th>Volume</th>\n",
       "    </tr>\n",
       "    <tr>\n",
       "      <th>Date</th>\n",
       "      <th></th>\n",
       "      <th></th>\n",
       "      <th></th>\n",
       "      <th></th>\n",
       "      <th></th>\n",
       "      <th></th>\n",
       "    </tr>\n",
       "  </thead>\n",
       "  <tbody>\n",
       "    <tr>\n",
       "      <th>1970-01-30</th>\n",
       "      <td>85.690002</td>\n",
       "      <td>86.330002</td>\n",
       "      <td>84.419998</td>\n",
       "      <td>85.019997</td>\n",
       "      <td>85.019997</td>\n",
       "      <td>12320000</td>\n",
       "    </tr>\n",
       "    <tr>\n",
       "      <th>1970-02-27</th>\n",
       "      <td>88.900002</td>\n",
       "      <td>90.330002</td>\n",
       "      <td>88.419998</td>\n",
       "      <td>89.500000</td>\n",
       "      <td>89.500000</td>\n",
       "      <td>12890000</td>\n",
       "    </tr>\n",
       "    <tr>\n",
       "      <th>1970-03-31</th>\n",
       "      <td>89.629997</td>\n",
       "      <td>90.169998</td>\n",
       "      <td>88.849998</td>\n",
       "      <td>89.629997</td>\n",
       "      <td>89.629997</td>\n",
       "      <td>8370000</td>\n",
       "    </tr>\n",
       "    <tr>\n",
       "      <th>1970-04-30</th>\n",
       "      <td>81.809998</td>\n",
       "      <td>82.570000</td>\n",
       "      <td>80.760002</td>\n",
       "      <td>81.519997</td>\n",
       "      <td>81.519997</td>\n",
       "      <td>9880000</td>\n",
       "    </tr>\n",
       "    <tr>\n",
       "      <th>1970-05-29</th>\n",
       "      <td>74.610001</td>\n",
       "      <td>76.919998</td>\n",
       "      <td>73.529999</td>\n",
       "      <td>76.550003</td>\n",
       "      <td>76.550003</td>\n",
       "      <td>14630000</td>\n",
       "    </tr>\n",
       "  </tbody>\n",
       "</table>\n",
       "</div>"
      ],
      "text/plain": [
       "                 Open       High        Low      Close  Adj Close    Volume\n",
       "Date                                                                       \n",
       "1970-01-30  85.690002  86.330002  84.419998  85.019997  85.019997  12320000\n",
       "1970-02-27  88.900002  90.330002  88.419998  89.500000  89.500000  12890000\n",
       "1970-03-31  89.629997  90.169998  88.849998  89.629997  89.629997   8370000\n",
       "1970-04-30  81.809998  82.570000  80.760002  81.519997  81.519997   9880000\n",
       "1970-05-29  74.610001  76.919998  73.529999  76.550003  76.550003  14630000"
      ]
     },
     "execution_count": 2,
     "metadata": {},
     "output_type": "execute_result"
    }
   ],
   "source": [
    "SP_monthly.head()"
   ]
  },
  {
   "cell_type": "code",
   "execution_count": 3,
   "metadata": {
    "scrolled": true
   },
   "outputs": [
    {
     "data": {
      "text/html": [
       "<div>\n",
       "<style scoped>\n",
       "    .dataframe tbody tr th:only-of-type {\n",
       "        vertical-align: middle;\n",
       "    }\n",
       "\n",
       "    .dataframe tbody tr th {\n",
       "        vertical-align: top;\n",
       "    }\n",
       "\n",
       "    .dataframe thead th {\n",
       "        text-align: right;\n",
       "    }\n",
       "</style>\n",
       "<table border=\"1\" class=\"dataframe\">\n",
       "  <thead>\n",
       "    <tr style=\"text-align: right;\">\n",
       "      <th></th>\n",
       "      <th>Open</th>\n",
       "      <th>High</th>\n",
       "      <th>Low</th>\n",
       "      <th>Close</th>\n",
       "      <th>Adj Close</th>\n",
       "      <th>Volume</th>\n",
       "    </tr>\n",
       "    <tr>\n",
       "      <th>Date</th>\n",
       "      <th></th>\n",
       "      <th></th>\n",
       "      <th></th>\n",
       "      <th></th>\n",
       "      <th></th>\n",
       "      <th></th>\n",
       "    </tr>\n",
       "  </thead>\n",
       "  <tbody>\n",
       "    <tr>\n",
       "      <th>1970-12-31</th>\n",
       "      <td>92.269997</td>\n",
       "      <td>92.790001</td>\n",
       "      <td>91.360001</td>\n",
       "      <td>92.150002</td>\n",
       "      <td>92.150002</td>\n",
       "      <td>13390000</td>\n",
       "    </tr>\n",
       "    <tr>\n",
       "      <th>1971-12-31</th>\n",
       "      <td>102.089996</td>\n",
       "      <td>102.089996</td>\n",
       "      <td>102.089996</td>\n",
       "      <td>102.089996</td>\n",
       "      <td>102.089996</td>\n",
       "      <td>14040000</td>\n",
       "    </tr>\n",
       "    <tr>\n",
       "      <th>1972-12-29</th>\n",
       "      <td>116.930000</td>\n",
       "      <td>118.769997</td>\n",
       "      <td>116.699997</td>\n",
       "      <td>118.050003</td>\n",
       "      <td>118.050003</td>\n",
       "      <td>27550000</td>\n",
       "    </tr>\n",
       "    <tr>\n",
       "      <th>1973-12-31</th>\n",
       "      <td>97.540001</td>\n",
       "      <td>98.300003</td>\n",
       "      <td>95.949997</td>\n",
       "      <td>97.550003</td>\n",
       "      <td>97.550003</td>\n",
       "      <td>23470000</td>\n",
       "    </tr>\n",
       "    <tr>\n",
       "      <th>1974-12-31</th>\n",
       "      <td>67.160004</td>\n",
       "      <td>69.040001</td>\n",
       "      <td>67.150002</td>\n",
       "      <td>68.559998</td>\n",
       "      <td>68.559998</td>\n",
       "      <td>20970000</td>\n",
       "    </tr>\n",
       "  </tbody>\n",
       "</table>\n",
       "</div>"
      ],
      "text/plain": [
       "                  Open        High         Low       Close   Adj Close  \\\n",
       "Date                                                                     \n",
       "1970-12-31   92.269997   92.790001   91.360001   92.150002   92.150002   \n",
       "1971-12-31  102.089996  102.089996  102.089996  102.089996  102.089996   \n",
       "1972-12-29  116.930000  118.769997  116.699997  118.050003  118.050003   \n",
       "1973-12-31   97.540001   98.300003   95.949997   97.550003   97.550003   \n",
       "1974-12-31   67.160004   69.040001   67.150002   68.559998   68.559998   \n",
       "\n",
       "              Volume  \n",
       "Date                  \n",
       "1970-12-31  13390000  \n",
       "1971-12-31  14040000  \n",
       "1972-12-29  27550000  \n",
       "1973-12-31  23470000  \n",
       "1974-12-31  20970000  "
      ]
     },
     "execution_count": 3,
     "metadata": {},
     "output_type": "execute_result"
    }
   ],
   "source": [
    "SP_yearly.head()"
   ]
  },
  {
   "cell_type": "code",
   "execution_count": 4,
   "metadata": {},
   "outputs": [],
   "source": [
    "def plot_ACF(x, p):\n",
    "    x = np.array(x).reshape((-1,1))\n",
    "    T = x.shape[0]\n",
    "    se_approx = 1 / np.sqrt(T)\n",
    "    ACF = np.zeros(p)\n",
    "    ACF[0] = 1\n",
    "    for i in range(1, p):\n",
    "        ACF[i] = np.dot(x[i:, 0].T - np.average(x[i:, 0]), x[:-i, 0] - np.average(x[:-i, 0])) \\\n",
    "                 / np.dot(x.T - np.average(x), x - np.average(x))\n",
    "    plt.stem(ACF)\n",
    "    plt.fill_between(x=range(p+1), y1=-1.96 * se_approx, y2=1.96 * se_approx, facecolor='blue', alpha=0.1)"
   ]
  },
  {
   "cell_type": "markdown",
   "metadata": {},
   "source": [
    "##  Autocorrelations\n",
    "\n",
    "#### Daily"
   ]
  },
  {
   "cell_type": "code",
   "execution_count": 5,
   "metadata": {},
   "outputs": [],
   "source": [
    "SP_return_daily_log=SP_daily_log[1:].reset_index(drop=True)-SP_daily_log[:-1].reset_index(drop=True)\n",
    "GE_return_daily_log=GE_daily_log[1:].reset_index(drop=True)-GE_daily_log[:-1].reset_index(drop=True)\n",
    "SP_return_monthly_log=SP_monthly_log[1:].reset_index(drop=True)-SP_monthly_log[:-1].reset_index(drop=True)\n",
    "GE_return_monthly_log=GE_monthly_log[1:].reset_index(drop=True)-GE_monthly_log[:-1].reset_index(drop=True)\n",
    "SP_return_yearly_log=SP_yearly_log[1:].reset_index(drop=True)-SP_yearly_log[:-1].reset_index(drop=True)\n",
    "GE_return_yearly_log=GE_yearly_log[1:].reset_index(drop=True)-GE_yearly_log[:-1].reset_index(drop=True)\n"
   ]
  },
  {
   "cell_type": "code",
   "execution_count": 6,
   "metadata": {},
   "outputs": [
    {
     "data": {
      "image/png": "[encoded data removed]",
      "text/plain": [
       "<Figure size 432x288 with 1 Axes>"
      ]
     },
     "metadata": {
      "needs_background": "light"
     },
     "output_type": "display_data"
    },
    {
     "data": {
      "image/png": "[encoded data removed]",
      "text/plain": [
       "<Figure size 432x288 with 1 Axes>"
      ]
     },
     "metadata": {
      "needs_background": "light"
     },
     "output_type": "display_data"
    }
   ],
   "source": [
    "plot_ACF(SP_return_daily_log,6)\n",
    "plt.title(\"log S&P daily ACF\")\n",
    "plt.show()\n",
    "plot_ACF(GE_return_daily_log,6)\n",
    "plt.title(\"log GE daily ACF\")\n",
    "plt.show()"
   ]
  },
  {
   "cell_type": "markdown",
   "metadata": {},
   "source": [
    "#### Monthly"
   ]
  },
  {
   "cell_type": "code",
   "execution_count": 7,
   "metadata": {},
   "outputs": [
    {
     "data": {
      "image/png": "[encoded data removed]",
      "text/plain": [
       "<Figure size 432x288 with 1 Axes>"
      ]
     },
     "metadata": {
      "needs_background": "light"
     },
     "output_type": "display_data"
    },
    {
     "data": {
      "image/png": "[encoded data removed]",
      "text/plain": [
       "<Figure size 432x288 with 1 Axes>"
      ]
     },
     "metadata": {
      "needs_background": "light"
     },
     "output_type": "display_data"
    }
   ],
   "source": [
    "plot_ACF(SP_return_monthly_log,6)\n",
    "plt.title(\"log S&P monthly ACF\")\n",
    "plt.show()\n",
    "plot_ACF(GE_return_monthly_log,6)\n",
    "plt.title(\"log GE monthly ACF\")\n",
    "plt.show()"
   ]
  },
  {
   "cell_type": "markdown",
   "metadata": {},
   "source": [
    "#### Yearly"
   ]
  },
  {
   "cell_type": "code",
   "execution_count": 8,
   "metadata": {
    "scrolled": true
   },
   "outputs": [
    {
     "data": {
      "image/png": "[encoded data removed]",
      "text/plain": [
       "<Figure size 432x288 with 1 Axes>"
      ]
     },
     "metadata": {
      "needs_background": "light"
     },
     "output_type": "display_data"
    },
    {
     "data": {
      "image/png": "[encoded data removed]",
      "text/plain": [
       "<Figure size 432x288 with 1 Axes>"
      ]
     },
     "metadata": {
      "needs_background": "light"
     },
     "output_type": "display_data"
    }
   ],
   "source": [
    "plot_ACF(SP_return_yearly_log,6)\n",
    "plt.title(\"log S&P yearly ACF\")\n",
    "plt.show()\n",
    "plot_ACF(GE_return_yearly_log,6)\n",
    "plt.title(\"log GE yearly ACF\")\n",
    "plt.show()"
   ]
  },
  {
   "cell_type": "markdown",
   "metadata": {},
   "source": [
    "#### B) Return Volatility"
   ]
  },
  {
   "cell_type": "code",
   "execution_count": 9,
   "metadata": {},
   "outputs": [
    {
     "name": "stdout",
     "output_type": "stream",
     "text": [
      "Annualized RVOL for S&P daily returns: Adj Close    0.172471\n",
      "dtype: float64\n",
      "Annualized RVOL for S&P monthly returns: Adj Close    0.154205\n",
      "dtype: float64\n",
      "Annualized RVOL for S&P yearly returns: 0.1801835604385308\n"
     ]
    }
   ],
   "source": [
    "SP_Rvol_daily=(252**0.5)*((np.sum(SP_return_daily_log**2)/len(GE_return_daily_log))**0.5)\n",
    "SP_Rvol_monthly=(12**0.5)*((np.sum(SP_return_monthly_log**2)/len(SP_return_monthly_log))**0.5)\n",
    "SP_Rvol_yearly=(np.sum(SP_return_yearly_log**2)/len(SP_return_yearly_log))**0.5\n",
    "\n",
    "\n",
    "\n",
    "\n",
    "print(\"Annualized RVOL for S&P daily returns:\",SP_Rvol_daily)\n",
    "print(\"Annualized RVOL for S&P monthly returns:\",SP_Rvol_monthly)\n",
    "print(\"Annualized RVOL for S&P yearly returns:\",SP_Rvol_yearly)\n",
    "\n"
   ]
  },
  {
   "cell_type": "code",
   "execution_count": 10,
   "metadata": {
    "scrolled": false
   },
   "outputs": [
    {
     "name": "stdout",
     "output_type": "stream",
     "text": [
      "Annualized RVOL for GE daily returns: Adj Close    0.277944\n",
      "dtype: float64\n",
      "Annualized RVOL for GE monthly returns: Adj Close    0.256156\n",
      "dtype: float64\n",
      "Annualized RVOL for GE yearly returns: 0.31665977673950096\n"
     ]
    }
   ],
   "source": [
    "GE_Rvol_daily=(252**0.5)*((np.sum(GE_return_daily_log**2)/len(GE_return_daily_log))**0.5)\n",
    "GE_Rvol_monthly=(12**0.5)*((np.sum(GE_return_monthly_log**2)/len(GE_return_monthly_log))**0.5)\n",
    "GE_Rvol_yearly=(np.sum(GE_return_yearly_log**2)/len(GE_return_yearly_log))**0.5\n",
    "\n",
    "\n",
    "print(\"Annualized RVOL for GE daily returns:\",GE_Rvol_daily)\n",
    "print(\"Annualized RVOL for GE monthly returns:\",GE_Rvol_monthly)\n",
    "print(\"Annualized RVOL for GE yearly returns:\",GE_Rvol_yearly)"
   ]
  },
  {
   "cell_type": "markdown",
   "metadata": {},
   "source": [
    "The annualized RVOL are not equal because the returns are not identically distributed, ie there are times of high volatility and low volatility, thus violating the IID condition."
   ]
  },
  {
   "cell_type": "markdown",
   "metadata": {},
   "source": [
    "#### C) Vol. monthly TS and Vol. Monthly TS based on daily values S&P"
   ]
  },
  {
   "cell_type": "markdown",
   "metadata": {},
   "source": [
    "In this Notebook for computing the C)ii) time series, ie monthly Vol TS based on daily values- it is assumed that every month has 21 trading days, the exact computation is done in the other notebook.\n",
    "\n",
    "Moreover In this notebook, only C)i) Time series, ie monthly volatility has been used for the analysis, the C)ii) analysis is based in another notebook."
   ]
  },
  {
   "cell_type": "code",
   "execution_count": 11,
   "metadata": {
    "scrolled": true
   },
   "outputs": [],
   "source": [
    "SP_vol_monthly_TS=np.zeros((1,SP_return_monthly_log.shape[0]-1))\n",
    "\n",
    "for i in range(0,SP_return_monthly_log.shape[0]-1):\n",
    "    SP_vol_monthly_TS[0][i]=np.array(abs(SP_return_monthly_log[i:i+1]))\n",
    "    \n",
    "    \n",
    "    \n",
    "    \n",
    "SP_vol_monthonolized_TS=np.zeros((1,int(SP_return_monthly_log.shape[0])-1))\n",
    "\n",
    "for i in range(0,int(SP_return_monthly_log.shape[0]-1)):\n",
    "    p=21*i\n",
    "    SP_vol_monthonolized_TS[0][i]=((np.sum(SP_return_daily_log[p:p+21]**2))**0.5)\n",
    "    \n",
    "    \n"
   ]
  },
  {
   "cell_type": "code",
   "execution_count": 12,
   "metadata": {},
   "outputs": [
    {
     "data": {
      "image/png": "[encoded data removed]",
      "text/plain": [
       "<Figure size 432x288 with 1 Axes>"
      ]
     },
     "metadata": {
      "needs_background": "light"
     },
     "output_type": "display_data"
    }
   ],
   "source": [
    "\n",
    "plt.plot(SP_vol_monthly_TS[0],label=\"Monthly TS\")\n",
    "plt.plot(SP_vol_monthonolized_TS[0],label=\"Monthly TS based on daily data\")\n",
    "plt.legend()\n",
    "plt.title(\"S&P\")\n",
    "plt.show()"
   ]
  },
  {
   "cell_type": "code",
   "execution_count": 13,
   "metadata": {},
   "outputs": [
    {
     "name": "stdout",
     "output_type": "stream",
     "text": [
      "Mean of Monthly TS: 0.0337055259936626\n",
      "Mean of Monthly TS based on daily values: 0.042201697191398824\n"
     ]
    }
   ],
   "source": [
    "print(\"Mean of Monthly TS:\", np.mean(SP_vol_monthly_TS[0]))\n",
    "print(\"Mean of Monthly TS based on daily values:\", np.mean(SP_vol_monthonolized_TS[0]))"
   ]
  },
  {
   "cell_type": "code",
   "execution_count": 14,
   "metadata": {},
   "outputs": [
    {
     "name": "stdout",
     "output_type": "stream",
     "text": [
      "Variance of Monthly TS: 0.0008492463570011786\n",
      "Varianceb of Monthly TS based on daily values:: 0.000642130707952535\n",
      "Covariance of the two TS: 0.00021844539284951355\n"
     ]
    }
   ],
   "source": [
    "x=np.cov(SP_vol_monthly_TS[0],SP_vol_monthonolized_TS[0].T)\n",
    "print(\"Variance of Monthly TS:\", x[0][0])\n",
    "print(\"Varianceb of Monthly TS based on daily values::\", x[1][1])\n",
    "\n",
    "print(\"Covariance of the two TS:\",x[0][1])\n"
   ]
  },
  {
   "cell_type": "markdown",
   "metadata": {},
   "source": [
    "The two TS are positively correlated"
   ]
  },
  {
   "cell_type": "markdown",
   "metadata": {},
   "source": [
    "#### Vol. monthly TS and Vol. Monthly TS based on daily values GE"
   ]
  },
  {
   "cell_type": "code",
   "execution_count": 15,
   "metadata": {},
   "outputs": [
    {
     "data": {
      "image/png": "[encoded data removed]",
      "text/plain": [
       "<Figure size 432x288 with 1 Axes>"
      ]
     },
     "metadata": {
      "needs_background": "light"
     },
     "output_type": "display_data"
    }
   ],
   "source": [
    "GE_vol_monthly_TS=np.zeros((1,GE_return_monthly_log.shape[0]-1))\n",
    "\n",
    "for i in range(0,GE_return_monthly_log.shape[0]-1):\n",
    "    GE_vol_monthly_TS[0][i]=np.array(abs(GE_return_monthly_log[i:i+1]))\n",
    "    \n",
    "    \n",
    "    \n",
    "    \n",
    "GE_vol_monthonolized_TS=np.zeros((1,int(GE_return_monthly_log.shape[0])-1))\n",
    "\n",
    "for i in range(0,int(GE_return_monthly_log.shape[0]-1)):\n",
    "    p=21*i\n",
    "    GE_vol_monthonolized_TS[0][i]=((np.sum(GE_return_daily_log[p:p+21]**2))**0.5)\n",
    "\n",
    "\n",
    "plt.plot(GE_vol_monthly_TS[0],label=\"Monthly TS\")\n",
    "plt.plot(GE_vol_monthonolized_TS[0],label=\"Monthly TS based on daily data\")\n",
    "plt.legend()\n",
    "plt.title(\"GE\")\n",
    "plt.show()    "
   ]
  },
  {
   "cell_type": "code",
   "execution_count": 16,
   "metadata": {},
   "outputs": [
    {
     "name": "stdout",
     "output_type": "stream",
     "text": [
      "Mean of Monthly TS: 0.05437583374627002\n",
      "Mean of Monthly TS based on daily values: 0.06965107651694113\n",
      "Variance of Monthly TS: 0.002510835281859076\n",
      "Varianceb of Monthly TS based on daily values:: 0.0014390571829459551\n",
      "Covariance of the two TS: 0.0007470243911843056\n"
     ]
    }
   ],
   "source": [
    "print(\"Mean of Monthly TS:\", np.mean(GE_vol_monthly_TS[0]))\n",
    "print(\"Mean of Monthly TS based on daily values:\", np.mean(GE_vol_monthonolized_TS[0]))\n",
    "x=np.cov(GE_vol_monthly_TS[0],GE_vol_monthonolized_TS[0].T)\n",
    "print(\"Variance of Monthly TS:\", x[0][0])\n",
    "print(\"Varianceb of Monthly TS based on daily values::\", x[1][1])\n",
    "\n",
    "print(\"Covariance of the two TS:\",x[0][1])"
   ]
  },
  {
   "cell_type": "markdown",
   "metadata": {},
   "source": [
    "####  AR(1) on RVAR (Realized Vol.) S&P"
   ]
  },
  {
   "cell_type": "code",
   "execution_count": 17,
   "metadata": {},
   "outputs": [
    {
     "data": {
      "text/html": [
       "<table class=\"simpletable\">\n",
       "<caption>OLS Regression Results</caption>\n",
       "<tr>\n",
       "  <th>Dep. Variable:</th>            <td>0</td>        <th>  R-squared:         </th> <td>   0.027</td>\n",
       "</tr>\n",
       "<tr>\n",
       "  <th>Model:</th>                   <td>OLS</td>       <th>  Adj. R-squared:    </th> <td>   0.025</td>\n",
       "</tr>\n",
       "<tr>\n",
       "  <th>Method:</th>             <td>Least Squares</td>  <th>  F-statistic:       </th> <td>   16.65</td>\n",
       "</tr>\n",
       "<tr>\n",
       "  <th>Date:</th>             <td>Fri, 08 May 2020</td> <th>  Prob (F-statistic):</th> <td>5.10e-05</td>\n",
       "</tr>\n",
       "<tr>\n",
       "  <th>Time:</th>                 <td>01:32:26</td>     <th>  Log-Likelihood:    </th> <td>  2472.6</td>\n",
       "</tr>\n",
       "<tr>\n",
       "  <th>No. Observations:</th>      <td>   602</td>      <th>  AIC:               </th> <td>  -4941.</td>\n",
       "</tr>\n",
       "<tr>\n",
       "  <th>Df Residuals:</th>          <td>   600</td>      <th>  BIC:               </th> <td>  -4932.</td>\n",
       "</tr>\n",
       "<tr>\n",
       "  <th>Df Model:</th>              <td>     1</td>      <th>                     </th>     <td> </td>   \n",
       "</tr>\n",
       "<tr>\n",
       "  <th>Covariance Type:</th>      <td>nonrobust</td>    <th>                     </th>     <td> </td>   \n",
       "</tr>\n",
       "</table>\n",
       "<table class=\"simpletable\">\n",
       "<tr>\n",
       "      <td></td>         <th>coef</th>     <th>std err</th>      <th>t</th>      <th>P>|t|</th>  <th>[0.025</th>    <th>0.975]</th>  \n",
       "</tr>\n",
       "<tr>\n",
       "  <th>Var_(t-1)</th> <td>    0.1656</td> <td>    0.041</td> <td>    4.080</td> <td> 0.000</td> <td>    0.086</td> <td>    0.245</td>\n",
       "</tr>\n",
       "<tr>\n",
       "  <th>const</th>     <td>    0.0017</td> <td>    0.000</td> <td>    9.159</td> <td> 0.000</td> <td>    0.001</td> <td>    0.002</td>\n",
       "</tr>\n",
       "</table>\n",
       "<table class=\"simpletable\">\n",
       "<tr>\n",
       "  <th>Omnibus:</th>       <td>839.414</td> <th>  Durbin-Watson:     </th>  <td>   2.007</td> \n",
       "</tr>\n",
       "<tr>\n",
       "  <th>Prob(Omnibus):</th> <td> 0.000</td>  <th>  Jarque-Bera (JB):  </th> <td>188349.432</td>\n",
       "</tr>\n",
       "<tr>\n",
       "  <th>Skew:</th>          <td> 7.276</td>  <th>  Prob(JB):          </th>  <td>    0.00</td> \n",
       "</tr>\n",
       "<tr>\n",
       "  <th>Kurtosis:</th>      <td>88.423</td>  <th>  Cond. No.          </th>  <td>    250.</td> \n",
       "</tr>\n",
       "</table><br/><br/>Warnings:<br/>[1] Standard Errors assume that the covariance matrix of the errors is correctly specified."
      ],
      "text/plain": [
       "<class 'statsmodels.iolib.summary.Summary'>\n",
       "\"\"\"\n",
       "                            OLS Regression Results                            \n",
       "==============================================================================\n",
       "Dep. Variable:                      0   R-squared:                       0.027\n",
       "Model:                            OLS   Adj. R-squared:                  0.025\n",
       "Method:                 Least Squares   F-statistic:                     16.65\n",
       "Date:                Fri, 08 May 2020   Prob (F-statistic):           5.10e-05\n",
       "Time:                        01:32:26   Log-Likelihood:                 2472.6\n",
       "No. Observations:                 602   AIC:                            -4941.\n",
       "Df Residuals:                     600   BIC:                            -4932.\n",
       "Df Model:                           1                                         \n",
       "Covariance Type:            nonrobust                                         \n",
       "==============================================================================\n",
       "                 coef    std err          t      P>|t|      [0.025      0.975]\n",
       "------------------------------------------------------------------------------\n",
       "Var_(t-1)      0.1656      0.041      4.080      0.000       0.086       0.245\n",
       "const          0.0017      0.000      9.159      0.000       0.001       0.002\n",
       "==============================================================================\n",
       "Omnibus:                      839.414   Durbin-Watson:                   2.007\n",
       "Prob(Omnibus):                  0.000   Jarque-Bera (JB):           188349.432\n",
       "Skew:                           7.276   Prob(JB):                         0.00\n",
       "Kurtosis:                      88.423   Cond. No.                         250.\n",
       "==============================================================================\n",
       "\n",
       "Warnings:\n",
       "[1] Standard Errors assume that the covariance matrix of the errors is correctly specified.\n",
       "\"\"\""
      ]
     },
     "execution_count": 17,
     "metadata": {},
     "output_type": "execute_result"
    }
   ],
   "source": [
    "y=pd.DataFrame(SP_vol_monthly_TS[0][1:]**2)\n",
    "x=pd.DataFrame(SP_vol_monthly_TS[0][:-1]**2)\n",
    "x.columns=([\"Var_(t-1)\"])\n",
    "ones=np.ones((len(x.index),1))                         \n",
    "df_ones=pd.DataFrame(ones)\n",
    "x[\"const\"]=df_ones\n",
    "model = sm.OLS(y, x)\n",
    "results_x = model.fit()\n",
    "results_x.summary()"
   ]
  },
  {
   "cell_type": "code",
   "execution_count": 18,
   "metadata": {
    "scrolled": false
   },
   "outputs": [
    {
     "data": {
      "text/plain": [
       "Text(0.5, 1.0, 'Realized VAR. VS Forecasted Realized VAR.')"
      ]
     },
     "execution_count": 18,
     "metadata": {},
     "output_type": "execute_result"
    },
    {
     "data": {
      "image/png": "[encoded data removed]",
      "text/plain": [
       "<Figure size 432x288 with 1 Axes>"
      ]
     },
     "metadata": {
      "needs_background": "light"
     },
     "output_type": "display_data"
    }
   ],
   "source": [
    "forecast=np.dot(results_x.params,x.T)\n",
    "plt.plot(y,label=\"realized VAR\")\n",
    "plt.plot(forecast,label=\"Forecasted realized VAR\")\n",
    "plt.legend()\n",
    "plt.title(\"Realized VAR. VS Forecasted Realized VAR.\")"
   ]
  },
  {
   "cell_type": "code",
   "execution_count": 19,
   "metadata": {
    "scrolled": false
   },
   "outputs": [
    {
     "name": "stdout",
     "output_type": "stream",
     "text": [
      "The MSE of the forecast by ARCH(1) is: 0.0009288255959563461\n",
      "The RMSE of the forecast by ARCH(1) is: 0.03047664016843632\n",
      "The MAE of the forecast by ARCH(1) is: 0.010484669733890698\n"
     ]
    },
    {
     "data": {
      "image/png": "[encoded data removed]",
      "text/plain": [
       "<Figure size 432x288 with 1 Axes>"
      ]
     },
     "metadata": {
      "needs_background": "light"
     },
     "output_type": "display_data"
    }
   ],
   "source": [
    "VAR_surp=pd.DataFrame(y[0])-pd.DataFrame(forecast)\n",
    "plt.plot(VAR_surp)\n",
    "plt.title(\"RVAR Surprise\")\n",
    "\n",
    "VOL_surp=pd.DataFrame(y[0]**0.5)-pd.DataFrame(forecast**0.5)\n",
    "MSE= np.sum(VOL_surp**2)/(len(VOL_surp))\n",
    "print(\"The MSE of the forecast by ARCH(1) is:\",MSE[0])\n",
    "print(\"The RMSE of the forecast by ARCH(1) is:\",np.sqrt(MSE[0]))\n",
    "\n",
    "MAE=abs(np.sum(pd.DataFrame(y[0]**0.5)-pd.DataFrame(forecast**0.5))/len(forecast))\n",
    "print(\"The MAE of the forecast by ARCH(1) is:\",MAE[0])"
   ]
  },
  {
   "cell_type": "markdown",
   "metadata": {},
   "source": [
    "#### ARCH Model S&P"
   ]
  },
  {
   "cell_type": "code",
   "execution_count": 20,
   "metadata": {
    "scrolled": true
   },
   "outputs": [
    {
     "name": "stdout",
     "output_type": "stream",
     "text": [
      "                      Constant Mean - ARCH Model Results                      \n",
      "==============================================================================\n",
      "Dep. Variable:              Adj Close   R-squared:                      -0.002\n",
      "Mean Model:             Constant Mean   Adj. R-squared:                 -0.002\n",
      "Vol Model:                       ARCH   Log-Likelihood:                1040.42\n",
      "Distribution:                  Normal   AIC:                          -2074.83\n",
      "Method:            Maximum Likelihood   BIC:                          -2061.62\n",
      "                                        No. Observations:                  604\n",
      "Date:                Fri, May 08 2020   Df Residuals:                      601\n",
      "Time:                        01:32:26   Df Model:                            3\n",
      "                                 Mean Model                                 \n",
      "============================================================================\n",
      "                 coef    std err          t      P>|t|      95.0% Conf. Int.\n",
      "----------------------------------------------------------------------------\n",
      "mu         7.5845e-03  1.776e-03      4.271  1.945e-05 [4.104e-03,1.106e-02]\n",
      "                              Volatility Model                              \n",
      "============================================================================\n",
      "                 coef    std err          t      P>|t|      95.0% Conf. Int.\n",
      "----------------------------------------------------------------------------\n",
      "omega      1.6048e-03  1.700e-04      9.437  3.822e-21 [1.271e-03,1.938e-03]\n",
      "alpha[1]       0.1675  5.527e-02      3.031  2.435e-03   [5.921e-02,  0.276]\n",
      "============================================================================\n",
      "\n",
      "Covariance estimator: robust\n"
     ]
    },
    {
     "name": "stderr",
     "output_type": "stream",
     "text": [
      "C:\\Users\\ANSHUL\\Anaconda3\\lib\\site-packages\\arch\\univariate\\base.py:293: DataScaleWarning: y is poorly scaled, which may affect convergence of the optimizer when\n",
      "estimating the model parameters. The scale of y is 0.001948. Parameter\n",
      "estimation work better when this value is between 1 and 1000. The recommended\n",
      "rescaling is 10 * y.\n",
      "\n",
      "This warning can be disabled by either rescaling y before initializing the\n",
      "model or by setting rescale=False.\n",
      "\n",
      "  data_scale_warning.format(orig_scale, rescale), DataScaleWarning\n"
     ]
    }
   ],
   "source": [
    "from arch import arch_model\n",
    "am = arch_model(SP_return_monthly_log, p=1, o=0, q=0)\n",
    "res = am.fit(update_freq=5, disp='off')\n",
    "print(res.summary())"
   ]
  },
  {
   "cell_type": "markdown",
   "metadata": {},
   "source": [
    "The ARCH(1) parameters match the AR(1) results above, thus validating the procedure."
   ]
  },
  {
   "cell_type": "markdown",
   "metadata": {},
   "source": [
    "#### AR(1) on RVAR GE"
   ]
  },
  {
   "cell_type": "code",
   "execution_count": 21,
   "metadata": {},
   "outputs": [
    {
     "data": {
      "text/html": [
       "<table class=\"simpletable\">\n",
       "<caption>OLS Regression Results</caption>\n",
       "<tr>\n",
       "  <th>Dep. Variable:</th>            <td>0</td>        <th>  R-squared:         </th> <td>   0.053</td>\n",
       "</tr>\n",
       "<tr>\n",
       "  <th>Model:</th>                   <td>OLS</td>       <th>  Adj. R-squared:    </th> <td>   0.052</td>\n",
       "</tr>\n",
       "<tr>\n",
       "  <th>Method:</th>             <td>Least Squares</td>  <th>  F-statistic:       </th> <td>   33.83</td>\n",
       "</tr>\n",
       "<tr>\n",
       "  <th>Date:</th>             <td>Fri, 08 May 2020</td> <th>  Prob (F-statistic):</th> <td>9.78e-09</td>\n",
       "</tr>\n",
       "<tr>\n",
       "  <th>Time:</th>                 <td>01:32:26</td>     <th>  Log-Likelihood:    </th> <td>  1860.7</td>\n",
       "</tr>\n",
       "<tr>\n",
       "  <th>No. Observations:</th>      <td>   602</td>      <th>  AIC:               </th> <td>  -3717.</td>\n",
       "</tr>\n",
       "<tr>\n",
       "  <th>Df Residuals:</th>          <td>   600</td>      <th>  BIC:               </th> <td>  -3709.</td>\n",
       "</tr>\n",
       "<tr>\n",
       "  <th>Df Model:</th>              <td>     1</td>      <th>                     </th>     <td> </td>   \n",
       "</tr>\n",
       "<tr>\n",
       "  <th>Covariance Type:</th>      <td>nonrobust</td>    <th>                     </th>     <td> </td>   \n",
       "</tr>\n",
       "</table>\n",
       "<table class=\"simpletable\">\n",
       "<tr>\n",
       "      <td></td>         <th>coef</th>     <th>std err</th>      <th>t</th>      <th>P>|t|</th>  <th>[0.025</th>    <th>0.975]</th>  \n",
       "</tr>\n",
       "<tr>\n",
       "  <th>Var_(t-1)</th> <td>    0.2315</td> <td>    0.040</td> <td>    5.816</td> <td> 0.000</td> <td>    0.153</td> <td>    0.310</td>\n",
       "</tr>\n",
       "<tr>\n",
       "  <th>const</th>     <td>    0.0042</td> <td>    0.000</td> <td>    8.453</td> <td> 0.000</td> <td>    0.003</td> <td>    0.005</td>\n",
       "</tr>\n",
       "</table>\n",
       "<table class=\"simpletable\">\n",
       "<tr>\n",
       "  <th>Omnibus:</th>       <td>622.679</td> <th>  Durbin-Watson:     </th> <td>   2.091</td> \n",
       "</tr>\n",
       "<tr>\n",
       "  <th>Prob(Omnibus):</th> <td> 0.000</td>  <th>  Jarque-Bera (JB):  </th> <td>25565.125</td>\n",
       "</tr>\n",
       "<tr>\n",
       "  <th>Skew:</th>          <td> 4.832</td>  <th>  Prob(JB):          </th> <td>    0.00</td> \n",
       "</tr>\n",
       "<tr>\n",
       "  <th>Kurtosis:</th>      <td>33.427</td>  <th>  Cond. No.          </th> <td>    88.6</td> \n",
       "</tr>\n",
       "</table><br/><br/>Warnings:<br/>[1] Standard Errors assume that the covariance matrix of the errors is correctly specified."
      ],
      "text/plain": [
       "<class 'statsmodels.iolib.summary.Summary'>\n",
       "\"\"\"\n",
       "                            OLS Regression Results                            \n",
       "==============================================================================\n",
       "Dep. Variable:                      0   R-squared:                       0.053\n",
       "Model:                            OLS   Adj. R-squared:                  0.052\n",
       "Method:                 Least Squares   F-statistic:                     33.83\n",
       "Date:                Fri, 08 May 2020   Prob (F-statistic):           9.78e-09\n",
       "Time:                        01:32:26   Log-Likelihood:                 1860.7\n",
       "No. Observations:                 602   AIC:                            -3717.\n",
       "Df Residuals:                     600   BIC:                            -3709.\n",
       "Df Model:                           1                                         \n",
       "Covariance Type:            nonrobust                                         \n",
       "==============================================================================\n",
       "                 coef    std err          t      P>|t|      [0.025      0.975]\n",
       "------------------------------------------------------------------------------\n",
       "Var_(t-1)      0.2315      0.040      5.816      0.000       0.153       0.310\n",
       "const          0.0042      0.000      8.453      0.000       0.003       0.005\n",
       "==============================================================================\n",
       "Omnibus:                      622.679   Durbin-Watson:                   2.091\n",
       "Prob(Omnibus):                  0.000   Jarque-Bera (JB):            25565.125\n",
       "Skew:                           4.832   Prob(JB):                         0.00\n",
       "Kurtosis:                      33.427   Cond. No.                         88.6\n",
       "==============================================================================\n",
       "\n",
       "Warnings:\n",
       "[1] Standard Errors assume that the covariance matrix of the errors is correctly specified.\n",
       "\"\"\""
      ]
     },
     "execution_count": 21,
     "metadata": {},
     "output_type": "execute_result"
    }
   ],
   "source": [
    "y=pd.DataFrame(GE_vol_monthly_TS[0][1:]**2)\n",
    "x=pd.DataFrame(GE_vol_monthly_TS[0][:-1]**2)\n",
    "x.columns=([\"Var_(t-1)\"])\n",
    "ones=np.ones((len(x.index),1))                         \n",
    "df_ones=pd.DataFrame(ones)\n",
    "x[\"const\"]=df_ones\n",
    "model = sm.OLS(y, x)\n",
    "results_x = model.fit()\n",
    "results_x.summary()"
   ]
  },
  {
   "cell_type": "code",
   "execution_count": 22,
   "metadata": {},
   "outputs": [
    {
     "data": {
      "text/plain": [
       "Text(0.5, 1.0, 'Realized VAR. VS Forecasted Realized VAR.')"
      ]
     },
     "execution_count": 22,
     "metadata": {},
     "output_type": "execute_result"
    },
    {
     "data": {
      "image/png": "[encoded data removed]",
      "text/plain": [
       "<Figure size 432x288 with 1 Axes>"
      ]
     },
     "metadata": {
      "needs_background": "light"
     },
     "output_type": "display_data"
    }
   ],
   "source": [
    "forecast=np.dot(results_x.params,x.T)\n",
    "plt.plot(y,label=\"realized VAR\")\n",
    "plt.plot(forecast,label=\"Forecasted realized VAR\")\n",
    "\n",
    "plt.legend()\n",
    "plt.title(\"Realized VAR. VS Forecasted Realized VAR.\")"
   ]
  },
  {
   "cell_type": "code",
   "execution_count": 23,
   "metadata": {
    "scrolled": true
   },
   "outputs": [
    {
     "name": "stdout",
     "output_type": "stream",
     "text": [
      "The MSE of the forecast by ARCH(1) is: 0.002756929824525328\n",
      "The RMSE of the forecast by ARCH(1) is: 0.05250647412010569\n",
      "The MAE of the forecast by ARCH(1) is: 0.018356047460985906\n"
     ]
    },
    {
     "data": {
      "image/png": "[encoded data removed]",
      "text/plain": [
       "<Figure size 432x288 with 1 Axes>"
      ]
     },
     "metadata": {
      "needs_background": "light"
     },
     "output_type": "display_data"
    }
   ],
   "source": [
    "VAR_surp=pd.DataFrame(y[0])-pd.DataFrame(forecast)\n",
    "plt.plot(VAR_surp)\n",
    "plt.title(\"RVAR Surprise\")\n",
    "\n",
    "VOL_surp=pd.DataFrame(y[0]**0.5)-pd.DataFrame(forecast**0.5)\n",
    "MSE= np.sum(VOL_surp**2)/(len(VOL_surp))\n",
    "print(\"The MSE of the forecast by ARCH(1) is:\",MSE[0])\n",
    "print(\"The RMSE of the forecast by ARCH(1) is:\",np.sqrt(MSE[0]))\n",
    "MAE=abs(np.sum(pd.DataFrame(y[0]**0.5)-pd.DataFrame(forecast**0.5))/len(forecast))\n",
    "print(\"The MAE of the forecast by ARCH(1) is:\",MAE[0])\n"
   ]
  },
  {
   "cell_type": "markdown",
   "metadata": {},
   "source": [
    "The AR(1) on variance matches the ARCH(1) thus validating the procedure."
   ]
  },
  {
   "cell_type": "markdown",
   "metadata": {},
   "source": [
    "#### ARCH model GE"
   ]
  },
  {
   "cell_type": "code",
   "execution_count": 24,
   "metadata": {},
   "outputs": [
    {
     "name": "stdout",
     "output_type": "stream",
     "text": [
      "                      Constant Mean - ARCH Model Results                      \n",
      "==============================================================================\n",
      "Dep. Variable:              Adj Close   R-squared:                      -0.004\n",
      "Mean Model:             Constant Mean   Adj. R-squared:                 -0.004\n",
      "Vol Model:                       ARCH   Log-Likelihood:                737.500\n",
      "Distribution:                  Normal   AIC:                          -1469.00\n",
      "Method:            Maximum Likelihood   BIC:                          -1455.79\n",
      "                                        No. Observations:                  604\n",
      "Date:                Fri, May 08 2020   Df Residuals:                      601\n",
      "Time:                        01:32:27   Df Model:                            3\n",
      "                                 Mean Model                                 \n",
      "============================================================================\n",
      "                 coef    std err          t      P>|t|      95.0% Conf. Int.\n",
      "----------------------------------------------------------------------------\n",
      "mu             0.0109  2.918e-03      3.724  1.958e-04 [5.148e-03,1.658e-02]\n",
      "                              Volatility Model                              \n",
      "============================================================================\n",
      "                 coef    std err          t      P>|t|      95.0% Conf. Int.\n",
      "----------------------------------------------------------------------------\n",
      "omega      4.1378e-03  4.495e-04      9.206  3.389e-20 [3.257e-03,5.019e-03]\n",
      "alpha[1]       0.2330  7.966e-02      2.925  3.444e-03   [7.688e-02,  0.389]\n",
      "============================================================================\n",
      "\n",
      "Covariance estimator: robust\n"
     ]
    },
    {
     "name": "stderr",
     "output_type": "stream",
     "text": [
      "C:\\Users\\ANSHUL\\Anaconda3\\lib\\site-packages\\arch\\univariate\\base.py:293: DataScaleWarning: y is poorly scaled, which may affect convergence of the optimizer when\n",
      "estimating the model parameters. The scale of y is 0.00543. Parameter\n",
      "estimation work better when this value is between 1 and 1000. The recommended\n",
      "rescaling is 10 * y.\n",
      "\n",
      "This warning can be disabled by either rescaling y before initializing the\n",
      "model or by setting rescale=False.\n",
      "\n",
      "  data_scale_warning.format(orig_scale, rescale), DataScaleWarning\n"
     ]
    }
   ],
   "source": [
    "am = arch_model(GE_return_monthly_log, p=1, o=0, q=0)\n",
    "res = am.fit(update_freq=5, disp='off')\n",
    "print(res.summary())"
   ]
  },
  {
   "cell_type": "markdown",
   "metadata": {},
   "source": [
    "#### GARCH model"
   ]
  },
  {
   "cell_type": "code",
   "execution_count": 25,
   "metadata": {
    "scrolled": false
   },
   "outputs": [
    {
     "data": {
      "image/png": "[encoded data removed]",
      "text/plain": [
       "<Figure size 432x288 with 1 Axes>"
      ]
     },
     "metadata": {
      "needs_background": "light"
     },
     "output_type": "display_data"
    },
    {
     "data": {
      "image/png": "[encoded data removed]",
      "text/plain": [
       "<Figure size 432x288 with 1 Axes>"
      ]
     },
     "metadata": {
      "needs_background": "light"
     },
     "output_type": "display_data"
    }
   ],
   "source": [
    "plot_ACF(SP_vol_monthly_TS[0]**2,6)\n",
    "plt.title(\"S&P Realized VAR ACF\")\n",
    "plt.show()\n",
    "plot_ACF(GE_vol_monthly_TS[0]**2,6)\n",
    "plt.title(\"GE Realized VAR ACF\")\n",
    "plt.show()\n"
   ]
  },
  {
   "cell_type": "markdown",
   "metadata": {},
   "source": [
    "From the above plot, reaized volatility is persistent, thus ARCH is not a sufficiently good model, we expect better RMSE from GARCH models."
   ]
  },
  {
   "cell_type": "markdown",
   "metadata": {},
   "source": [
    "#### GARCH(1,1) S&P"
   ]
  },
  {
   "cell_type": "code",
   "execution_count": 26,
   "metadata": {
    "scrolled": true
   },
   "outputs": [
    {
     "name": "stdout",
     "output_type": "stream",
     "text": [
      "Iteration:     10,   Func. Count:     73,   Neg. LLF: 337.7621927998366\n",
      "Optimization terminated successfully.    (Exit mode 0)\n",
      "            Current function value: 337.7613254552977\n",
      "            Iterations: 12\n",
      "            Function evaluations: 85\n",
      "            Gradient evaluations: 12\n",
      "                     Constant Mean - GARCH Model Results                      \n",
      "==============================================================================\n",
      "Dep. Variable:              Adj Close   R-squared:                      -0.000\n",
      "Mean Model:             Constant Mean   Adj. R-squared:                 -0.000\n",
      "Vol Model:                      GARCH   Log-Likelihood:               -337.761\n",
      "Distribution:                  Normal   AIC:                           683.523\n",
      "Method:            Maximum Likelihood   BIC:                           701.137\n",
      "                                        No. Observations:                  604\n",
      "Date:                Fri, May 08 2020   Df Residuals:                      600\n",
      "Time:                        01:32:27   Df Model:                            4\n",
      "                                 Mean Model                                 \n",
      "============================================================================\n",
      "                 coef    std err          t      P>|t|      95.0% Conf. Int.\n",
      "----------------------------------------------------------------------------\n",
      "mu             0.0646  1.698e-02      3.801  1.439e-04 [3.127e-02,9.784e-02]\n",
      "                               Volatility Model                              \n",
      "=============================================================================\n",
      "                 coef    std err          t      P>|t|       95.0% Conf. Int.\n",
      "-----------------------------------------------------------------------------\n",
      "omega      8.5378e-03  4.898e-03      1.743  8.133e-02 [-1.063e-03,1.814e-02]\n",
      "alpha[1]       0.1317  3.390e-02      3.884  1.029e-04    [6.522e-02,  0.198]\n",
      "beta[1]        0.8363  3.812e-02     21.942 1.035e-106      [  0.762,  0.911]\n",
      "=============================================================================\n",
      "\n",
      "Covariance estimator: robust\n"
     ]
    }
   ],
   "source": [
    "am = arch_model(SP_return_monthly_log*10, p=1, o=0, q=1)\n",
    "res = am.fit(update_freq=10)\n",
    "print(res.summary())"
   ]
  },
  {
   "cell_type": "code",
   "execution_count": 27,
   "metadata": {},
   "outputs": [
    {
     "data": {
      "text/plain": [
       "Text(0.5, 1.0, 'Realized VAR. VS Forecasted Realized VAR.')"
      ]
     },
     "execution_count": 27,
     "metadata": {},
     "output_type": "execute_result"
    },
    {
     "data": {
      "image/png": "[encoded data removed]",
      "text/plain": [
       "<Figure size 432x288 with 1 Axes>"
      ]
     },
     "metadata": {
      "needs_background": "light"
     },
     "output_type": "display_data"
    }
   ],
   "source": [
    "plt.plot((SP_vol_monthly_TS[0])**2,label=\"Realized VAR\")\n",
    "plt.plot((res.conditional_volatility/10)**2,label=\"Forecasted VAR\")\n",
    "plt.legend()\n",
    "plt.title(\"Realized VAR. VS Forecasted Realized VAR.\")"
   ]
  },
  {
   "cell_type": "markdown",
   "metadata": {},
   "source": [
    "For this simulation GARCH(1,1) for s&p, we have scaled up the data because the optimizer was running into convergence issues.\n"
   ]
  },
  {
   "cell_type": "code",
   "execution_count": 28,
   "metadata": {
    "scrolled": true
   },
   "outputs": [
    {
     "name": "stdout",
     "output_type": "stream",
     "text": [
      "The RMSE of the forecast by GARCH(1,1) is: 0.026171795029531743\n",
      "The MAE of the forecast by GARCH(1,1) is: 0.010026711040655369\n"
     ]
    },
    {
     "data": {
      "image/png": "[encoded data removed]",
      "text/plain": [
       "<Figure size 432x288 with 1 Axes>"
      ]
     },
     "metadata": {
      "needs_background": "light"
     },
     "output_type": "display_data"
    }
   ],
   "source": [
    "VAR_surp=SP_vol_monthly_TS[0]**2-(res.conditional_volatility[1:]/10)**2\n",
    "plt.plot(VAR_surp)\n",
    "plt.title(\"RVAR Surprise\")\n",
    "\n",
    "VOL_surp_Garch=SP_vol_monthly_TS[0]-np.array(res.conditional_volatility[1:]/10)\n",
    "RMSE= np.sqrt(np.sum(VOL_surp_Garch**2)/(len(VOL_surp_Garch)))\n",
    "print(\"The RMSE of the forecast by GARCH(1,1) is:\",RMSE)\n",
    "\n",
    "MAE=abs(np.sum(SP_vol_monthly_TS[0]-np.array(res.conditional_volatility[1:]/10))/len(SP_vol_monthly_TS[0]))\n",
    "print(\"The MAE of the forecast by GARCH(1,1) is:\",MAE)"
   ]
  },
  {
   "cell_type": "code",
   "execution_count": 29,
   "metadata": {},
   "outputs": [
    {
     "data": {
      "text/html": [
       "<table class=\"simpletable\">\n",
       "<caption>OLS Regression Results</caption>\n",
       "<tr>\n",
       "  <th>Dep. Variable:</th>            <td>y</td>        <th>  R-squared:         </th> <td>   0.427</td>\n",
       "</tr>\n",
       "<tr>\n",
       "  <th>Model:</th>                   <td>OLS</td>       <th>  Adj. R-squared:    </th> <td>   0.426</td>\n",
       "</tr>\n",
       "<tr>\n",
       "  <th>Method:</th>             <td>Least Squares</td>  <th>  F-statistic:       </th> <td>   448.7</td>\n",
       "</tr>\n",
       "<tr>\n",
       "  <th>Date:</th>             <td>Fri, 08 May 2020</td> <th>  Prob (F-statistic):</th> <td>7.80e-75</td>\n",
       "</tr>\n",
       "<tr>\n",
       "  <th>Time:</th>                 <td>01:32:28</td>     <th>  Log-Likelihood:    </th> <td>  2571.5</td>\n",
       "</tr>\n",
       "<tr>\n",
       "  <th>No. Observations:</th>      <td>   603</td>      <th>  AIC:               </th> <td>  -5141.</td>\n",
       "</tr>\n",
       "<tr>\n",
       "  <th>Df Residuals:</th>          <td>   602</td>      <th>  BIC:               </th> <td>  -5137.</td>\n",
       "</tr>\n",
       "<tr>\n",
       "  <th>Df Model:</th>              <td>     1</td>      <th>                     </th>     <td> </td>   \n",
       "</tr>\n",
       "<tr>\n",
       "  <th>Covariance Type:</th>      <td>nonrobust</td>    <th>                     </th>     <td> </td>   \n",
       "</tr>\n",
       "</table>\n",
       "<table class=\"simpletable\">\n",
       "<tr>\n",
       "      <td></td>        <th>coef</th>     <th>std err</th>      <th>t</th>      <th>P>|t|</th>  <th>[0.025</th>    <th>0.975]</th>  \n",
       "</tr>\n",
       "<tr>\n",
       "  <th>cond_vol</th> <td>    1.2069</td> <td>    0.057</td> <td>   21.182</td> <td> 0.000</td> <td>    1.095</td> <td>    1.319</td>\n",
       "</tr>\n",
       "</table>\n",
       "<table class=\"simpletable\">\n",
       "<tr>\n",
       "  <th>Omnibus:</th>       <td>804.737</td> <th>  Durbin-Watson:     </th>  <td>   1.917</td> \n",
       "</tr>\n",
       "<tr>\n",
       "  <th>Prob(Omnibus):</th> <td> 0.000</td>  <th>  Jarque-Bera (JB):  </th> <td>163590.131</td>\n",
       "</tr>\n",
       "<tr>\n",
       "  <th>Skew:</th>          <td> 6.717</td>  <th>  Prob(JB):          </th>  <td>    0.00</td> \n",
       "</tr>\n",
       "<tr>\n",
       "  <th>Kurtosis:</th>      <td>82.565</td>  <th>  Cond. No.          </th>  <td>    1.00</td> \n",
       "</tr>\n",
       "</table><br/><br/>Warnings:<br/>[1] Standard Errors assume that the covariance matrix of the errors is correctly specified."
      ],
      "text/plain": [
       "<class 'statsmodels.iolib.summary.Summary'>\n",
       "\"\"\"\n",
       "                            OLS Regression Results                            \n",
       "==============================================================================\n",
       "Dep. Variable:                      y   R-squared:                       0.427\n",
       "Model:                            OLS   Adj. R-squared:                  0.426\n",
       "Method:                 Least Squares   F-statistic:                     448.7\n",
       "Date:                Fri, 08 May 2020   Prob (F-statistic):           7.80e-75\n",
       "Time:                        01:32:28   Log-Likelihood:                 2571.5\n",
       "No. Observations:                 603   AIC:                            -5141.\n",
       "Df Residuals:                     602   BIC:                            -5137.\n",
       "Df Model:                           1                                         \n",
       "Covariance Type:            nonrobust                                         \n",
       "==============================================================================\n",
       "                 coef    std err          t      P>|t|      [0.025      0.975]\n",
       "------------------------------------------------------------------------------\n",
       "cond_vol       1.2069      0.057     21.182      0.000       1.095       1.319\n",
       "==============================================================================\n",
       "Omnibus:                      804.737   Durbin-Watson:                   1.917\n",
       "Prob(Omnibus):                  0.000   Jarque-Bera (JB):           163590.131\n",
       "Skew:                           6.717   Prob(JB):                         0.00\n",
       "Kurtosis:                      82.565   Cond. No.                         1.00\n",
       "==============================================================================\n",
       "\n",
       "Warnings:\n",
       "[1] Standard Errors assume that the covariance matrix of the errors is correctly specified.\n",
       "\"\"\""
      ]
     },
     "execution_count": 29,
     "metadata": {},
     "output_type": "execute_result"
    }
   ],
   "source": [
    "RVAR_on_cond=sm.OLS(SP_vol_monthly_TS[0]**2,(res.conditional_volatility[1:]/10)**2)\n",
    "result=RVAR_on_cond.fit()\n",
    "result.summary()"
   ]
  },
  {
   "cell_type": "markdown",
   "metadata": {},
   "source": [
    "#### GARCH(1,1) GE"
   ]
  },
  {
   "cell_type": "code",
   "execution_count": 30,
   "metadata": {},
   "outputs": [
    {
     "name": "stdout",
     "output_type": "stream",
     "text": [
      "                     Constant Mean - GARCH Model Results                      \n",
      "==============================================================================\n",
      "Dep. Variable:              Adj Close   R-squared:                      -0.003\n",
      "Mean Model:             Constant Mean   Adj. R-squared:                 -0.003\n",
      "Vol Model:                      GARCH   Log-Likelihood:                770.952\n",
      "Distribution:                  Normal   AIC:                          -1533.90\n",
      "Method:            Maximum Likelihood   BIC:                          -1516.29\n",
      "                                        No. Observations:                  604\n",
      "Date:                Fri, May 08 2020   Df Residuals:                      600\n",
      "Time:                        01:32:28   Df Model:                            4\n",
      "                                 Mean Model                                 \n",
      "============================================================================\n",
      "                 coef    std err          t      P>|t|      95.0% Conf. Int.\n",
      "----------------------------------------------------------------------------\n",
      "mu             0.0101  2.609e-03      3.877  1.056e-04 [5.002e-03,1.523e-02]\n",
      "                              Volatility Model                              \n",
      "============================================================================\n",
      "                 coef    std err          t      P>|t|      95.0% Conf. Int.\n",
      "----------------------------------------------------------------------------\n",
      "omega      2.0476e-04  8.254e-05      2.481  1.311e-02 [4.298e-05,3.665e-04]\n",
      "alpha[1]       0.1396  3.106e-02      4.496  6.921e-06   [7.877e-02,  0.201]\n",
      "beta[1]        0.8308  2.801e-02     29.665 2.166e-193     [  0.776,  0.886]\n",
      "============================================================================\n",
      "\n",
      "Covariance estimator: robust\n"
     ]
    },
    {
     "name": "stderr",
     "output_type": "stream",
     "text": [
      "C:\\Users\\ANSHUL\\Anaconda3\\lib\\site-packages\\arch\\univariate\\base.py:293: DataScaleWarning: y is poorly scaled, which may affect convergence of the optimizer when\n",
      "estimating the model parameters. The scale of y is 0.00543. Parameter\n",
      "estimation work better when this value is between 1 and 1000. The recommended\n",
      "rescaling is 10 * y.\n",
      "\n",
      "This warning can be disabled by either rescaling y before initializing the\n",
      "model or by setting rescale=False.\n",
      "\n",
      "  data_scale_warning.format(orig_scale, rescale), DataScaleWarning\n"
     ]
    }
   ],
   "source": [
    "am = arch_model(GE_return_monthly_log, p=1, o=0, q=1)\n",
    "res = am.fit(update_freq=5, disp='off')\n",
    "print(res.summary())"
   ]
  },
  {
   "cell_type": "code",
   "execution_count": 31,
   "metadata": {
    "scrolled": true
   },
   "outputs": [
    {
     "data": {
      "text/plain": [
       "Text(0.5, 1.0, 'Realized VAR. VS Forecasted Realized VAR.')"
      ]
     },
     "execution_count": 31,
     "metadata": {},
     "output_type": "execute_result"
    },
    {
     "data": {
      "image/png": "[encoded data removed]",
      "text/plain": [
       "<Figure size 432x288 with 1 Axes>"
      ]
     },
     "metadata": {
      "needs_background": "light"
     },
     "output_type": "display_data"
    }
   ],
   "source": [
    "plt.plot(GE_vol_monthly_TS[0]**2,label=\"Realized VAR\")\n",
    "plt.plot(res.conditional_volatility**2,label=\"Forecasted VAR\")\n",
    "plt.legend()\n",
    "plt.title(\"Realized VAR. VS Forecasted Realized VAR.\")"
   ]
  },
  {
   "cell_type": "code",
   "execution_count": 32,
   "metadata": {
    "scrolled": false
   },
   "outputs": [
    {
     "name": "stdout",
     "output_type": "stream",
     "text": [
      "The RMSE of the forecast by GARCH(1,1) is: 0.043618959628650464\n",
      "The MAE of the forecast by GARCH(1,1) is: 0.016167227573196274\n"
     ]
    },
    {
     "data": {
      "image/png": "[encoded data removed]",
      "text/plain": [
       "<Figure size 432x288 with 1 Axes>"
      ]
     },
     "metadata": {
      "needs_background": "light"
     },
     "output_type": "display_data"
    }
   ],
   "source": [
    "VAR_surp=GE_vol_monthly_TS[0]**2-res.conditional_volatility[1:]**2\n",
    "plt.plot(VAR_surp)\n",
    "plt.title(\"RVAR Surprise\")\n",
    "\n",
    "VOL_surp_Garch=GE_vol_monthly_TS[0]-np.array(res.conditional_volatility[1:])\n",
    "RMSE= np.sqrt(np.sum(VOL_surp_Garch**2)/(len(VOL_surp_Garch)))\n",
    "print(\"The RMSE of the forecast by GARCH(1,1) is:\",RMSE)\n",
    "MAE=abs(np.sum(GE_vol_monthly_TS[0]-np.array(res.conditional_volatility[1:]))/len(SP_vol_monthly_TS[0]))\n",
    "print(\"The MAE of the forecast by GARCH(1,1) is:\",MAE)"
   ]
  },
  {
   "cell_type": "code",
   "execution_count": 33,
   "metadata": {},
   "outputs": [
    {
     "data": {
      "text/html": [
       "<table class=\"simpletable\">\n",
       "<caption>OLS Regression Results</caption>\n",
       "<tr>\n",
       "  <th>Dep. Variable:</th>            <td>y</td>        <th>  R-squared:         </th> <td>   0.498</td>\n",
       "</tr>\n",
       "<tr>\n",
       "  <th>Model:</th>                   <td>OLS</td>       <th>  Adj. R-squared:    </th> <td>   0.497</td>\n",
       "</tr>\n",
       "<tr>\n",
       "  <th>Method:</th>             <td>Least Squares</td>  <th>  F-statistic:       </th> <td>   596.4</td>\n",
       "</tr>\n",
       "<tr>\n",
       "  <th>Date:</th>             <td>Fri, 08 May 2020</td> <th>  Prob (F-statistic):</th> <td>4.62e-92</td>\n",
       "</tr>\n",
       "<tr>\n",
       "  <th>Time:</th>                 <td>01:32:28</td>     <th>  Log-Likelihood:    </th> <td>  1991.9</td>\n",
       "</tr>\n",
       "<tr>\n",
       "  <th>No. Observations:</th>      <td>   603</td>      <th>  AIC:               </th> <td>  -3982.</td>\n",
       "</tr>\n",
       "<tr>\n",
       "  <th>Df Residuals:</th>          <td>   602</td>      <th>  BIC:               </th> <td>  -3977.</td>\n",
       "</tr>\n",
       "<tr>\n",
       "  <th>Df Model:</th>              <td>     1</td>      <th>                     </th>     <td> </td>   \n",
       "</tr>\n",
       "<tr>\n",
       "  <th>Covariance Type:</th>      <td>nonrobust</td>    <th>                     </th>     <td> </td>   \n",
       "</tr>\n",
       "</table>\n",
       "<table class=\"simpletable\">\n",
       "<tr>\n",
       "      <td></td>        <th>coef</th>     <th>std err</th>      <th>t</th>      <th>P>|t|</th>  <th>[0.025</th>    <th>0.975]</th>  \n",
       "</tr>\n",
       "<tr>\n",
       "  <th>cond_vol</th> <td>    1.2404</td> <td>    0.051</td> <td>   24.421</td> <td> 0.000</td> <td>    1.141</td> <td>    1.340</td>\n",
       "</tr>\n",
       "</table>\n",
       "<table class=\"simpletable\">\n",
       "<tr>\n",
       "  <th>Omnibus:</th>       <td>526.031</td> <th>  Durbin-Watson:     </th> <td>   2.010</td> \n",
       "</tr>\n",
       "<tr>\n",
       "  <th>Prob(Omnibus):</th> <td> 0.000</td>  <th>  Jarque-Bera (JB):  </th> <td>15744.357</td>\n",
       "</tr>\n",
       "<tr>\n",
       "  <th>Skew:</th>          <td> 3.766</td>  <th>  Prob(JB):          </th> <td>    0.00</td> \n",
       "</tr>\n",
       "<tr>\n",
       "  <th>Kurtosis:</th>      <td>26.873</td>  <th>  Cond. No.          </th> <td>    1.00</td> \n",
       "</tr>\n",
       "</table><br/><br/>Warnings:<br/>[1] Standard Errors assume that the covariance matrix of the errors is correctly specified."
      ],
      "text/plain": [
       "<class 'statsmodels.iolib.summary.Summary'>\n",
       "\"\"\"\n",
       "                            OLS Regression Results                            \n",
       "==============================================================================\n",
       "Dep. Variable:                      y   R-squared:                       0.498\n",
       "Model:                            OLS   Adj. R-squared:                  0.497\n",
       "Method:                 Least Squares   F-statistic:                     596.4\n",
       "Date:                Fri, 08 May 2020   Prob (F-statistic):           4.62e-92\n",
       "Time:                        01:32:28   Log-Likelihood:                 1991.9\n",
       "No. Observations:                 603   AIC:                            -3982.\n",
       "Df Residuals:                     602   BIC:                            -3977.\n",
       "Df Model:                           1                                         \n",
       "Covariance Type:            nonrobust                                         \n",
       "==============================================================================\n",
       "                 coef    std err          t      P>|t|      [0.025      0.975]\n",
       "------------------------------------------------------------------------------\n",
       "cond_vol       1.2404      0.051     24.421      0.000       1.141       1.340\n",
       "==============================================================================\n",
       "Omnibus:                      526.031   Durbin-Watson:                   2.010\n",
       "Prob(Omnibus):                  0.000   Jarque-Bera (JB):            15744.357\n",
       "Skew:                           3.766   Prob(JB):                         0.00\n",
       "Kurtosis:                      26.873   Cond. No.                         1.00\n",
       "==============================================================================\n",
       "\n",
       "Warnings:\n",
       "[1] Standard Errors assume that the covariance matrix of the errors is correctly specified.\n",
       "\"\"\""
      ]
     },
     "execution_count": 33,
     "metadata": {},
     "output_type": "execute_result"
    }
   ],
   "source": [
    "RVAR_on_cond=sm.OLS(GE_vol_monthly_TS[0]**2,res.conditional_volatility[1:]**2)\n",
    "result=RVAR_on_cond.fit()\n",
    "result.summary()"
   ]
  },
  {
   "cell_type": "markdown",
   "metadata": {},
   "source": [
    "#### Choosing best GARCH model"
   ]
  },
  {
   "cell_type": "code",
   "execution_count": 34,
   "metadata": {},
   "outputs": [],
   "source": [
    "def compute_RMSE(estimate,realised):\n",
    "   \n",
    "    VOL_surp_Garch=(realised)-(estimate)\n",
    "    RMSE= np.sqrt(np.sum(VOL_surp_Garch**2)/(len(VOL_surp_Garch)))\n",
    "    return RMSE\n"
   ]
  },
  {
   "cell_type": "markdown",
   "metadata": {},
   "source": [
    "#### S&P"
   ]
  },
  {
   "cell_type": "code",
   "execution_count": 35,
   "metadata": {},
   "outputs": [
    {
     "name": "stderr",
     "output_type": "stream",
     "text": [
      "C:\\Users\\ANSHUL\\Anaconda3\\lib\\site-packages\\arch\\univariate\\base.py:293: DataScaleWarning: y is poorly scaled, which may affect convergence of the optimizer when\n",
      "estimating the model parameters. The scale of y is 0.001948. Parameter\n",
      "estimation work better when this value is between 1 and 1000. The recommended\n",
      "rescaling is 10 * y.\n",
      "\n",
      "This warning can be disabled by either rescaling y before initializing the\n",
      "model or by setting rescale=False.\n",
      "\n",
      "  data_scale_warning.format(orig_scale, rescale), DataScaleWarning\n",
      "C:\\Users\\ANSHUL\\Anaconda3\\lib\\site-packages\\arch\\univariate\\base.py:709: ConvergenceWarning: The optimizer returned code 8. The message is:\n",
      "Positive directional derivative for linesearch\n",
      "See scipy.optimize.fmin_slsqp for code meaning.\n",
      "\n",
      "  ConvergenceWarning,\n",
      "C:\\Users\\ANSHUL\\Anaconda3\\lib\\site-packages\\arch\\univariate\\base.py:293: DataScaleWarning: y is poorly scaled, which may affect convergence of the optimizer when\n",
      "estimating the model parameters. The scale of y is 0.001948. Parameter\n",
      "estimation work better when this value is between 1 and 1000. The recommended\n",
      "rescaling is 10 * y.\n",
      "\n",
      "This warning can be disabled by either rescaling y before initializing the\n",
      "model or by setting rescale=False.\n",
      "\n",
      "  data_scale_warning.format(orig_scale, rescale), DataScaleWarning\n",
      "C:\\Users\\ANSHUL\\Anaconda3\\lib\\site-packages\\arch\\univariate\\base.py:293: DataScaleWarning: y is poorly scaled, which may affect convergence of the optimizer when\n",
      "estimating the model parameters. The scale of y is 0.001948. Parameter\n",
      "estimation work better when this value is between 1 and 1000. The recommended\n",
      "rescaling is 10 * y.\n",
      "\n",
      "This warning can be disabled by either rescaling y before initializing the\n",
      "model or by setting rescale=False.\n",
      "\n",
      "  data_scale_warning.format(orig_scale, rescale), DataScaleWarning\n",
      "C:\\Users\\ANSHUL\\Anaconda3\\lib\\site-packages\\arch\\univariate\\base.py:293: DataScaleWarning: y is poorly scaled, which may affect convergence of the optimizer when\n",
      "estimating the model parameters. The scale of y is 0.001948. Parameter\n",
      "estimation work better when this value is between 1 and 1000. The recommended\n",
      "rescaling is 10 * y.\n",
      "\n",
      "This warning can be disabled by either rescaling y before initializing the\n",
      "model or by setting rescale=False.\n",
      "\n",
      "  data_scale_warning.format(orig_scale, rescale), DataScaleWarning\n",
      "C:\\Users\\ANSHUL\\Anaconda3\\lib\\site-packages\\arch\\univariate\\base.py:293: DataScaleWarning: y is poorly scaled, which may affect convergence of the optimizer when\n",
      "estimating the model parameters. The scale of y is 0.001948. Parameter\n",
      "estimation work better when this value is between 1 and 1000. The recommended\n",
      "rescaling is 10 * y.\n",
      "\n",
      "This warning can be disabled by either rescaling y before initializing the\n",
      "model or by setting rescale=False.\n",
      "\n",
      "  data_scale_warning.format(orig_scale, rescale), DataScaleWarning\n",
      "C:\\Users\\ANSHUL\\Anaconda3\\lib\\site-packages\\arch\\univariate\\base.py:293: DataScaleWarning: y is poorly scaled, which may affect convergence of the optimizer when\n",
      "estimating the model parameters. The scale of y is 0.001948. Parameter\n",
      "estimation work better when this value is between 1 and 1000. The recommended\n",
      "rescaling is 10 * y.\n",
      "\n",
      "This warning can be disabled by either rescaling y before initializing the\n",
      "model or by setting rescale=False.\n",
      "\n",
      "  data_scale_warning.format(orig_scale, rescale), DataScaleWarning\n",
      "C:\\Users\\ANSHUL\\Anaconda3\\lib\\site-packages\\arch\\univariate\\base.py:293: DataScaleWarning: y is poorly scaled, which may affect convergence of the optimizer when\n",
      "estimating the model parameters. The scale of y is 0.001948. Parameter\n",
      "estimation work better when this value is between 1 and 1000. The recommended\n",
      "rescaling is 10 * y.\n",
      "\n",
      "This warning can be disabled by either rescaling y before initializing the\n",
      "model or by setting rescale=False.\n",
      "\n",
      "  data_scale_warning.format(orig_scale, rescale), DataScaleWarning\n",
      "C:\\Users\\ANSHUL\\Anaconda3\\lib\\site-packages\\arch\\univariate\\base.py:293: DataScaleWarning: y is poorly scaled, which may affect convergence of the optimizer when\n",
      "estimating the model parameters. The scale of y is 0.001948. Parameter\n",
      "estimation work better when this value is between 1 and 1000. The recommended\n",
      "rescaling is 10 * y.\n",
      "\n",
      "This warning can be disabled by either rescaling y before initializing the\n",
      "model or by setting rescale=False.\n",
      "\n",
      "  data_scale_warning.format(orig_scale, rescale), DataScaleWarning\n",
      "C:\\Users\\ANSHUL\\Anaconda3\\lib\\site-packages\\arch\\univariate\\base.py:293: DataScaleWarning: y is poorly scaled, which may affect convergence of the optimizer when\n",
      "estimating the model parameters. The scale of y is 0.001948. Parameter\n",
      "estimation work better when this value is between 1 and 1000. The recommended\n",
      "rescaling is 10 * y.\n",
      "\n",
      "This warning can be disabled by either rescaling y before initializing the\n",
      "model or by setting rescale=False.\n",
      "\n",
      "  data_scale_warning.format(orig_scale, rescale), DataScaleWarning\n",
      "C:\\Users\\ANSHUL\\Anaconda3\\lib\\site-packages\\arch\\univariate\\base.py:293: DataScaleWarning: y is poorly scaled, which may affect convergence of the optimizer when\n",
      "estimating the model parameters. The scale of y is 0.001948. Parameter\n",
      "estimation work better when this value is between 1 and 1000. The recommended\n",
      "rescaling is 10 * y.\n",
      "\n",
      "This warning can be disabled by either rescaling y before initializing the\n",
      "model or by setting rescale=False.\n",
      "\n",
      "  data_scale_warning.format(orig_scale, rescale), DataScaleWarning\n",
      "C:\\Users\\ANSHUL\\Anaconda3\\lib\\site-packages\\arch\\univariate\\base.py:293: DataScaleWarning: y is poorly scaled, which may affect convergence of the optimizer when\n",
      "estimating the model parameters. The scale of y is 0.001948. Parameter\n",
      "estimation work better when this value is between 1 and 1000. The recommended\n",
      "rescaling is 10 * y.\n",
      "\n",
      "This warning can be disabled by either rescaling y before initializing the\n",
      "model or by setting rescale=False.\n",
      "\n",
      "  data_scale_warning.format(orig_scale, rescale), DataScaleWarning\n",
      "C:\\Users\\ANSHUL\\Anaconda3\\lib\\site-packages\\arch\\univariate\\base.py:293: DataScaleWarning: y is poorly scaled, which may affect convergence of the optimizer when\n",
      "estimating the model parameters. The scale of y is 0.001948. Parameter\n",
      "estimation work better when this value is between 1 and 1000. The recommended\n",
      "rescaling is 10 * y.\n",
      "\n",
      "This warning can be disabled by either rescaling y before initializing the\n",
      "model or by setting rescale=False.\n",
      "\n",
      "  data_scale_warning.format(orig_scale, rescale), DataScaleWarning\n",
      "C:\\Users\\ANSHUL\\Anaconda3\\lib\\site-packages\\arch\\univariate\\base.py:293: DataScaleWarning: y is poorly scaled, which may affect convergence of the optimizer when\n",
      "estimating the model parameters. The scale of y is 0.001948. Parameter\n",
      "estimation work better when this value is between 1 and 1000. The recommended\n",
      "rescaling is 10 * y.\n",
      "\n",
      "This warning can be disabled by either rescaling y before initializing the\n",
      "model or by setting rescale=False.\n",
      "\n",
      "  data_scale_warning.format(orig_scale, rescale), DataScaleWarning\n",
      "C:\\Users\\ANSHUL\\Anaconda3\\lib\\site-packages\\arch\\univariate\\base.py:293: DataScaleWarning: y is poorly scaled, which may affect convergence of the optimizer when\n",
      "estimating the model parameters. The scale of y is 0.001948. Parameter\n",
      "estimation work better when this value is between 1 and 1000. The recommended\n",
      "rescaling is 10 * y.\n",
      "\n",
      "This warning can be disabled by either rescaling y before initializing the\n",
      "model or by setting rescale=False.\n",
      "\n",
      "  data_scale_warning.format(orig_scale, rescale), DataScaleWarning\n",
      "C:\\Users\\ANSHUL\\Anaconda3\\lib\\site-packages\\arch\\univariate\\base.py:293: DataScaleWarning: y is poorly scaled, which may affect convergence of the optimizer when\n",
      "estimating the model parameters. The scale of y is 0.001948. Parameter\n",
      "estimation work better when this value is between 1 and 1000. The recommended\n",
      "rescaling is 10 * y.\n",
      "\n",
      "This warning can be disabled by either rescaling y before initializing the\n",
      "model or by setting rescale=False.\n",
      "\n",
      "  data_scale_warning.format(orig_scale, rescale), DataScaleWarning\n",
      "C:\\Users\\ANSHUL\\Anaconda3\\lib\\site-packages\\arch\\univariate\\base.py:293: DataScaleWarning: y is poorly scaled, which may affect convergence of the optimizer when\n",
      "estimating the model parameters. The scale of y is 0.001948. Parameter\n",
      "estimation work better when this value is between 1 and 1000. The recommended\n",
      "rescaling is 10 * y.\n",
      "\n",
      "This warning can be disabled by either rescaling y before initializing the\n",
      "model or by setting rescale=False.\n",
      "\n",
      "  data_scale_warning.format(orig_scale, rescale), DataScaleWarning\n",
      "C:\\Users\\ANSHUL\\Anaconda3\\lib\\site-packages\\arch\\univariate\\base.py:293: DataScaleWarning: y is poorly scaled, which may affect convergence of the optimizer when\n",
      "estimating the model parameters. The scale of y is 0.001948. Parameter\n",
      "estimation work better when this value is between 1 and 1000. The recommended\n",
      "rescaling is 10 * y.\n",
      "\n",
      "This warning can be disabled by either rescaling y before initializing the\n",
      "model or by setting rescale=False.\n",
      "\n",
      "  data_scale_warning.format(orig_scale, rescale), DataScaleWarning\n",
      "C:\\Users\\ANSHUL\\Anaconda3\\lib\\site-packages\\arch\\univariate\\base.py:293: DataScaleWarning: y is poorly scaled, which may affect convergence of the optimizer when\n",
      "estimating the model parameters. The scale of y is 0.001948. Parameter\n",
      "estimation work better when this value is between 1 and 1000. The recommended\n",
      "rescaling is 10 * y.\n",
      "\n",
      "This warning can be disabled by either rescaling y before initializing the\n",
      "model or by setting rescale=False.\n",
      "\n",
      "  data_scale_warning.format(orig_scale, rescale), DataScaleWarning\n",
      "C:\\Users\\ANSHUL\\Anaconda3\\lib\\site-packages\\arch\\univariate\\base.py:293: DataScaleWarning: y is poorly scaled, which may affect convergence of the optimizer when\n",
      "estimating the model parameters. The scale of y is 0.001948. Parameter\n",
      "estimation work better when this value is between 1 and 1000. The recommended\n",
      "rescaling is 10 * y.\n",
      "\n",
      "This warning can be disabled by either rescaling y before initializing the\n",
      "model or by setting rescale=False.\n",
      "\n",
      "  data_scale_warning.format(orig_scale, rescale), DataScaleWarning\n",
      "C:\\Users\\ANSHUL\\Anaconda3\\lib\\site-packages\\arch\\univariate\\base.py:293: DataScaleWarning: y is poorly scaled, which may affect convergence of the optimizer when\n",
      "estimating the model parameters. The scale of y is 0.001948. Parameter\n",
      "estimation work better when this value is between 1 and 1000. The recommended\n",
      "rescaling is 10 * y.\n",
      "\n",
      "This warning can be disabled by either rescaling y before initializing the\n",
      "model or by setting rescale=False.\n",
      "\n",
      "  data_scale_warning.format(orig_scale, rescale), DataScaleWarning\n",
      "C:\\Users\\ANSHUL\\Anaconda3\\lib\\site-packages\\arch\\univariate\\base.py:293: DataScaleWarning: y is poorly scaled, which may affect convergence of the optimizer when\n",
      "estimating the model parameters. The scale of y is 0.001948. Parameter\n",
      "estimation work better when this value is between 1 and 1000. The recommended\n",
      "rescaling is 10 * y.\n",
      "\n",
      "This warning can be disabled by either rescaling y before initializing the\n",
      "model or by setting rescale=False.\n",
      "\n",
      "  data_scale_warning.format(orig_scale, rescale), DataScaleWarning\n",
      "C:\\Users\\ANSHUL\\Anaconda3\\lib\\site-packages\\arch\\univariate\\base.py:293: DataScaleWarning: y is poorly scaled, which may affect convergence of the optimizer when\n",
      "estimating the model parameters. The scale of y is 0.001948. Parameter\n",
      "estimation work better when this value is between 1 and 1000. The recommended\n",
      "rescaling is 10 * y.\n",
      "\n",
      "This warning can be disabled by either rescaling y before initializing the\n",
      "model or by setting rescale=False.\n",
      "\n",
      "  data_scale_warning.format(orig_scale, rescale), DataScaleWarning\n",
      "C:\\Users\\ANSHUL\\Anaconda3\\lib\\site-packages\\arch\\univariate\\base.py:293: DataScaleWarning: y is poorly scaled, which may affect convergence of the optimizer when\n",
      "estimating the model parameters. The scale of y is 0.001948. Parameter\n",
      "estimation work better when this value is between 1 and 1000. The recommended\n",
      "rescaling is 10 * y.\n",
      "\n",
      "This warning can be disabled by either rescaling y before initializing the\n",
      "model or by setting rescale=False.\n",
      "\n",
      "  data_scale_warning.format(orig_scale, rescale), DataScaleWarning\n",
      "C:\\Users\\ANSHUL\\Anaconda3\\lib\\site-packages\\arch\\univariate\\base.py:293: DataScaleWarning: y is poorly scaled, which may affect convergence of the optimizer when\n",
      "estimating the model parameters. The scale of y is 0.001948. Parameter\n",
      "estimation work better when this value is between 1 and 1000. The recommended\n",
      "rescaling is 10 * y.\n",
      "\n",
      "This warning can be disabled by either rescaling y before initializing the\n",
      "model or by setting rescale=False.\n",
      "\n",
      "  data_scale_warning.format(orig_scale, rescale), DataScaleWarning\n",
      "C:\\Users\\ANSHUL\\Anaconda3\\lib\\site-packages\\arch\\univariate\\base.py:293: DataScaleWarning: y is poorly scaled, which may affect convergence of the optimizer when\n",
      "estimating the model parameters. The scale of y is 0.001948. Parameter\n",
      "estimation work better when this value is between 1 and 1000. The recommended\n",
      "rescaling is 10 * y.\n",
      "\n",
      "This warning can be disabled by either rescaling y before initializing the\n",
      "model or by setting rescale=False.\n",
      "\n",
      "  data_scale_warning.format(orig_scale, rescale), DataScaleWarning\n"
     ]
    }
   ],
   "source": [
    "RMSE_mat=np.zeros((5,5))\n",
    "\n",
    "for i in range(1,6):\n",
    "    for j in range(1,6):\n",
    "        am = arch_model(SP_return_monthly_log, p=i, o=0, q=j)\n",
    "        res = am.fit(update_freq=5, disp='off')\n",
    "        \n",
    "        RMSE_mat[i-1][j-1]=compute_RMSE(res.conditional_volatility[1:],SP_vol_monthly_TS[0])\n",
    "        \n"
   ]
  },
  {
   "cell_type": "code",
   "execution_count": 36,
   "metadata": {
    "scrolled": true
   },
   "outputs": [
    {
     "name": "stdout",
     "output_type": "stream",
     "text": [
      "[[0.02645251 0.02617219 0.02617191 0.02617189 0.02617151]\n",
      " [0.02685958 0.02564492 0.02564554 0.02688683 0.0256451 ]\n",
      " [0.02686155 0.02649009 0.02759112 0.02759077 0.02759124]\n",
      " [0.02686105 0.02648975 0.02759112 0.02759123 0.02722909]\n",
      " [0.02686166 0.02648978 0.02759107 0.02649726 0.02722917]]\n"
     ]
    }
   ],
   "source": [
    "print(RMSE_mat)\n"
   ]
  },
  {
   "cell_type": "markdown",
   "metadata": {},
   "source": [
    "The best GARCH(p,q) according to RMSE is GARCH(2,2) for S&P"
   ]
  },
  {
   "cell_type": "markdown",
   "metadata": {},
   "source": [
    "#### GE"
   ]
  },
  {
   "cell_type": "code",
   "execution_count": 37,
   "metadata": {},
   "outputs": [
    {
     "name": "stderr",
     "output_type": "stream",
     "text": [
      "C:\\Users\\ANSHUL\\Anaconda3\\lib\\site-packages\\arch\\univariate\\base.py:293: DataScaleWarning: y is poorly scaled, which may affect convergence of the optimizer when\n",
      "estimating the model parameters. The scale of y is 0.00543. Parameter\n",
      "estimation work better when this value is between 1 and 1000. The recommended\n",
      "rescaling is 10 * y.\n",
      "\n",
      "This warning can be disabled by either rescaling y before initializing the\n",
      "model or by setting rescale=False.\n",
      "\n",
      "  data_scale_warning.format(orig_scale, rescale), DataScaleWarning\n",
      "C:\\Users\\ANSHUL\\Anaconda3\\lib\\site-packages\\arch\\univariate\\base.py:293: DataScaleWarning: y is poorly scaled, which may affect convergence of the optimizer when\n",
      "estimating the model parameters. The scale of y is 0.00543. Parameter\n",
      "estimation work better when this value is between 1 and 1000. The recommended\n",
      "rescaling is 10 * y.\n",
      "\n",
      "This warning can be disabled by either rescaling y before initializing the\n",
      "model or by setting rescale=False.\n",
      "\n",
      "  data_scale_warning.format(orig_scale, rescale), DataScaleWarning\n",
      "C:\\Users\\ANSHUL\\Anaconda3\\lib\\site-packages\\arch\\univariate\\base.py:293: DataScaleWarning: y is poorly scaled, which may affect convergence of the optimizer when\n",
      "estimating the model parameters. The scale of y is 0.00543. Parameter\n",
      "estimation work better when this value is between 1 and 1000. The recommended\n",
      "rescaling is 10 * y.\n",
      "\n",
      "This warning can be disabled by either rescaling y before initializing the\n",
      "model or by setting rescale=False.\n",
      "\n",
      "  data_scale_warning.format(orig_scale, rescale), DataScaleWarning\n",
      "C:\\Users\\ANSHUL\\Anaconda3\\lib\\site-packages\\arch\\univariate\\base.py:293: DataScaleWarning: y is poorly scaled, which may affect convergence of the optimizer when\n",
      "estimating the model parameters. The scale of y is 0.00543. Parameter\n",
      "estimation work better when this value is between 1 and 1000. The recommended\n",
      "rescaling is 10 * y.\n",
      "\n",
      "This warning can be disabled by either rescaling y before initializing the\n",
      "model or by setting rescale=False.\n",
      "\n",
      "  data_scale_warning.format(orig_scale, rescale), DataScaleWarning\n",
      "C:\\Users\\ANSHUL\\Anaconda3\\lib\\site-packages\\arch\\univariate\\base.py:293: DataScaleWarning: y is poorly scaled, which may affect convergence of the optimizer when\n",
      "estimating the model parameters. The scale of y is 0.00543. Parameter\n",
      "estimation work better when this value is between 1 and 1000. The recommended\n",
      "rescaling is 10 * y.\n",
      "\n",
      "This warning can be disabled by either rescaling y before initializing the\n",
      "model or by setting rescale=False.\n",
      "\n",
      "  data_scale_warning.format(orig_scale, rescale), DataScaleWarning\n",
      "C:\\Users\\ANSHUL\\Anaconda3\\lib\\site-packages\\arch\\univariate\\base.py:293: DataScaleWarning: y is poorly scaled, which may affect convergence of the optimizer when\n",
      "estimating the model parameters. The scale of y is 0.00543. Parameter\n",
      "estimation work better when this value is between 1 and 1000. The recommended\n",
      "rescaling is 10 * y.\n",
      "\n",
      "This warning can be disabled by either rescaling y before initializing the\n",
      "model or by setting rescale=False.\n",
      "\n",
      "  data_scale_warning.format(orig_scale, rescale), DataScaleWarning\n",
      "C:\\Users\\ANSHUL\\Anaconda3\\lib\\site-packages\\arch\\univariate\\base.py:293: DataScaleWarning: y is poorly scaled, which may affect convergence of the optimizer when\n",
      "estimating the model parameters. The scale of y is 0.00543. Parameter\n",
      "estimation work better when this value is between 1 and 1000. The recommended\n",
      "rescaling is 10 * y.\n",
      "\n",
      "This warning can be disabled by either rescaling y before initializing the\n",
      "model or by setting rescale=False.\n",
      "\n",
      "  data_scale_warning.format(orig_scale, rescale), DataScaleWarning\n",
      "C:\\Users\\ANSHUL\\Anaconda3\\lib\\site-packages\\arch\\univariate\\base.py:293: DataScaleWarning: y is poorly scaled, which may affect convergence of the optimizer when\n",
      "estimating the model parameters. The scale of y is 0.00543. Parameter\n",
      "estimation work better when this value is between 1 and 1000. The recommended\n",
      "rescaling is 10 * y.\n",
      "\n",
      "This warning can be disabled by either rescaling y before initializing the\n",
      "model or by setting rescale=False.\n",
      "\n",
      "  data_scale_warning.format(orig_scale, rescale), DataScaleWarning\n",
      "C:\\Users\\ANSHUL\\Anaconda3\\lib\\site-packages\\arch\\univariate\\base.py:293: DataScaleWarning: y is poorly scaled, which may affect convergence of the optimizer when\n",
      "estimating the model parameters. The scale of y is 0.00543. Parameter\n",
      "estimation work better when this value is between 1 and 1000. The recommended\n",
      "rescaling is 10 * y.\n",
      "\n",
      "This warning can be disabled by either rescaling y before initializing the\n",
      "model or by setting rescale=False.\n",
      "\n",
      "  data_scale_warning.format(orig_scale, rescale), DataScaleWarning\n",
      "C:\\Users\\ANSHUL\\Anaconda3\\lib\\site-packages\\arch\\univariate\\base.py:293: DataScaleWarning: y is poorly scaled, which may affect convergence of the optimizer when\n",
      "estimating the model parameters. The scale of y is 0.00543. Parameter\n",
      "estimation work better when this value is between 1 and 1000. The recommended\n",
      "rescaling is 10 * y.\n",
      "\n",
      "This warning can be disabled by either rescaling y before initializing the\n",
      "model or by setting rescale=False.\n",
      "\n",
      "  data_scale_warning.format(orig_scale, rescale), DataScaleWarning\n",
      "C:\\Users\\ANSHUL\\Anaconda3\\lib\\site-packages\\arch\\univariate\\base.py:293: DataScaleWarning: y is poorly scaled, which may affect convergence of the optimizer when\n",
      "estimating the model parameters. The scale of y is 0.00543. Parameter\n",
      "estimation work better when this value is between 1 and 1000. The recommended\n",
      "rescaling is 10 * y.\n",
      "\n",
      "This warning can be disabled by either rescaling y before initializing the\n",
      "model or by setting rescale=False.\n",
      "\n",
      "  data_scale_warning.format(orig_scale, rescale), DataScaleWarning\n",
      "C:\\Users\\ANSHUL\\Anaconda3\\lib\\site-packages\\arch\\univariate\\base.py:293: DataScaleWarning: y is poorly scaled, which may affect convergence of the optimizer when\n",
      "estimating the model parameters. The scale of y is 0.00543. Parameter\n",
      "estimation work better when this value is between 1 and 1000. The recommended\n",
      "rescaling is 10 * y.\n",
      "\n",
      "This warning can be disabled by either rescaling y before initializing the\n",
      "model or by setting rescale=False.\n",
      "\n",
      "  data_scale_warning.format(orig_scale, rescale), DataScaleWarning\n",
      "C:\\Users\\ANSHUL\\Anaconda3\\lib\\site-packages\\arch\\univariate\\base.py:293: DataScaleWarning: y is poorly scaled, which may affect convergence of the optimizer when\n",
      "estimating the model parameters. The scale of y is 0.00543. Parameter\n",
      "estimation work better when this value is between 1 and 1000. The recommended\n",
      "rescaling is 10 * y.\n",
      "\n",
      "This warning can be disabled by either rescaling y before initializing the\n",
      "model or by setting rescale=False.\n",
      "\n",
      "  data_scale_warning.format(orig_scale, rescale), DataScaleWarning\n",
      "C:\\Users\\ANSHUL\\Anaconda3\\lib\\site-packages\\arch\\univariate\\base.py:293: DataScaleWarning: y is poorly scaled, which may affect convergence of the optimizer when\n",
      "estimating the model parameters. The scale of y is 0.00543. Parameter\n",
      "estimation work better when this value is between 1 and 1000. The recommended\n",
      "rescaling is 10 * y.\n",
      "\n",
      "This warning can be disabled by either rescaling y before initializing the\n",
      "model or by setting rescale=False.\n",
      "\n",
      "  data_scale_warning.format(orig_scale, rescale), DataScaleWarning\n",
      "C:\\Users\\ANSHUL\\Anaconda3\\lib\\site-packages\\arch\\univariate\\base.py:293: DataScaleWarning: y is poorly scaled, which may affect convergence of the optimizer when\n",
      "estimating the model parameters. The scale of y is 0.00543. Parameter\n",
      "estimation work better when this value is between 1 and 1000. The recommended\n",
      "rescaling is 10 * y.\n",
      "\n",
      "This warning can be disabled by either rescaling y before initializing the\n",
      "model or by setting rescale=False.\n",
      "\n",
      "  data_scale_warning.format(orig_scale, rescale), DataScaleWarning\n",
      "C:\\Users\\ANSHUL\\Anaconda3\\lib\\site-packages\\arch\\univariate\\base.py:293: DataScaleWarning: y is poorly scaled, which may affect convergence of the optimizer when\n",
      "estimating the model parameters. The scale of y is 0.00543. Parameter\n",
      "estimation work better when this value is between 1 and 1000. The recommended\n",
      "rescaling is 10 * y.\n",
      "\n",
      "This warning can be disabled by either rescaling y before initializing the\n",
      "model or by setting rescale=False.\n",
      "\n",
      "  data_scale_warning.format(orig_scale, rescale), DataScaleWarning\n",
      "C:\\Users\\ANSHUL\\Anaconda3\\lib\\site-packages\\arch\\univariate\\base.py:293: DataScaleWarning: y is poorly scaled, which may affect convergence of the optimizer when\n",
      "estimating the model parameters. The scale of y is 0.00543. Parameter\n",
      "estimation work better when this value is between 1 and 1000. The recommended\n",
      "rescaling is 10 * y.\n",
      "\n",
      "This warning can be disabled by either rescaling y before initializing the\n",
      "model or by setting rescale=False.\n",
      "\n",
      "  data_scale_warning.format(orig_scale, rescale), DataScaleWarning\n",
      "C:\\Users\\ANSHUL\\Anaconda3\\lib\\site-packages\\arch\\univariate\\base.py:293: DataScaleWarning: y is poorly scaled, which may affect convergence of the optimizer when\n",
      "estimating the model parameters. The scale of y is 0.00543. Parameter\n",
      "estimation work better when this value is between 1 and 1000. The recommended\n",
      "rescaling is 10 * y.\n",
      "\n",
      "This warning can be disabled by either rescaling y before initializing the\n",
      "model or by setting rescale=False.\n",
      "\n",
      "  data_scale_warning.format(orig_scale, rescale), DataScaleWarning\n",
      "C:\\Users\\ANSHUL\\Anaconda3\\lib\\site-packages\\arch\\univariate\\base.py:293: DataScaleWarning: y is poorly scaled, which may affect convergence of the optimizer when\n",
      "estimating the model parameters. The scale of y is 0.00543. Parameter\n",
      "estimation work better when this value is between 1 and 1000. The recommended\n",
      "rescaling is 10 * y.\n",
      "\n",
      "This warning can be disabled by either rescaling y before initializing the\n",
      "model or by setting rescale=False.\n",
      "\n",
      "  data_scale_warning.format(orig_scale, rescale), DataScaleWarning\n",
      "C:\\Users\\ANSHUL\\Anaconda3\\lib\\site-packages\\arch\\univariate\\base.py:293: DataScaleWarning: y is poorly scaled, which may affect convergence of the optimizer when\n",
      "estimating the model parameters. The scale of y is 0.00543. Parameter\n",
      "estimation work better when this value is between 1 and 1000. The recommended\n",
      "rescaling is 10 * y.\n",
      "\n",
      "This warning can be disabled by either rescaling y before initializing the\n",
      "model or by setting rescale=False.\n",
      "\n",
      "  data_scale_warning.format(orig_scale, rescale), DataScaleWarning\n",
      "C:\\Users\\ANSHUL\\Anaconda3\\lib\\site-packages\\arch\\univariate\\base.py:293: DataScaleWarning: y is poorly scaled, which may affect convergence of the optimizer when\n",
      "estimating the model parameters. The scale of y is 0.00543. Parameter\n",
      "estimation work better when this value is between 1 and 1000. The recommended\n",
      "rescaling is 10 * y.\n",
      "\n",
      "This warning can be disabled by either rescaling y before initializing the\n",
      "model or by setting rescale=False.\n",
      "\n",
      "  data_scale_warning.format(orig_scale, rescale), DataScaleWarning\n",
      "C:\\Users\\ANSHUL\\Anaconda3\\lib\\site-packages\\arch\\univariate\\base.py:293: DataScaleWarning: y is poorly scaled, which may affect convergence of the optimizer when\n",
      "estimating the model parameters. The scale of y is 0.00543. Parameter\n",
      "estimation work better when this value is between 1 and 1000. The recommended\n",
      "rescaling is 10 * y.\n",
      "\n",
      "This warning can be disabled by either rescaling y before initializing the\n",
      "model or by setting rescale=False.\n",
      "\n",
      "  data_scale_warning.format(orig_scale, rescale), DataScaleWarning\n",
      "C:\\Users\\ANSHUL\\Anaconda3\\lib\\site-packages\\arch\\univariate\\base.py:293: DataScaleWarning: y is poorly scaled, which may affect convergence of the optimizer when\n",
      "estimating the model parameters. The scale of y is 0.00543. Parameter\n",
      "estimation work better when this value is between 1 and 1000. The recommended\n",
      "rescaling is 10 * y.\n",
      "\n",
      "This warning can be disabled by either rescaling y before initializing the\n",
      "model or by setting rescale=False.\n",
      "\n",
      "  data_scale_warning.format(orig_scale, rescale), DataScaleWarning\n",
      "C:\\Users\\ANSHUL\\Anaconda3\\lib\\site-packages\\arch\\univariate\\base.py:293: DataScaleWarning: y is poorly scaled, which may affect convergence of the optimizer when\n",
      "estimating the model parameters. The scale of y is 0.00543. Parameter\n",
      "estimation work better when this value is between 1 and 1000. The recommended\n",
      "rescaling is 10 * y.\n",
      "\n",
      "This warning can be disabled by either rescaling y before initializing the\n",
      "model or by setting rescale=False.\n",
      "\n",
      "  data_scale_warning.format(orig_scale, rescale), DataScaleWarning\n",
      "C:\\Users\\ANSHUL\\Anaconda3\\lib\\site-packages\\arch\\univariate\\base.py:293: DataScaleWarning: y is poorly scaled, which may affect convergence of the optimizer when\n",
      "estimating the model parameters. The scale of y is 0.00543. Parameter\n",
      "estimation work better when this value is between 1 and 1000. The recommended\n",
      "rescaling is 10 * y.\n",
      "\n",
      "This warning can be disabled by either rescaling y before initializing the\n",
      "model or by setting rescale=False.\n",
      "\n",
      "  data_scale_warning.format(orig_scale, rescale), DataScaleWarning\n"
     ]
    }
   ],
   "source": [
    "RMSE_mat=np.zeros((5,5))\n",
    "\n",
    "for i in range(1,6):\n",
    "    for j in range(1,6):\n",
    "        am = arch_model(GE_return_monthly_log, p=i, o=0, q=j)\n",
    "        res = am.fit(update_freq=5, disp='off')\n",
    "        \n",
    "        RMSE_mat[i-1][j-1]=compute_RMSE(res.conditional_volatility[1:],GE_vol_monthly_TS[0])\n",
    "        "
   ]
  },
  {
   "cell_type": "code",
   "execution_count": 38,
   "metadata": {},
   "outputs": [
    {
     "name": "stdout",
     "output_type": "stream",
     "text": [
      "[[0.04361896 0.04177637 0.04361919 0.04347429 0.04299778]\n",
      " [0.04542771 0.0454414  0.04571445 0.04561689 0.04545546]\n",
      " [0.04542773 0.04538826 0.0460183  0.04539276 0.04539255]\n",
      " [0.04542777 0.04538853 0.04601927 0.04539971 0.04539227]\n",
      " [0.04542751 0.0453881  0.04601822 0.04539339 0.04539305]]\n"
     ]
    }
   ],
   "source": [
    "print(RMSE_mat)"
   ]
  },
  {
   "cell_type": "markdown",
   "metadata": {},
   "source": [
    "The best GARCH(p,q) according to RMSE is GARCH(1,2) for S&P"
   ]
  },
  {
   "cell_type": "markdown",
   "metadata": {},
   "source": [
    "####  GJR-Garch(1,1) S&P"
   ]
  },
  {
   "cell_type": "code",
   "execution_count": 39,
   "metadata": {
    "scrolled": true
   },
   "outputs": [
    {
     "name": "stdout",
     "output_type": "stream",
     "text": [
      "                   Constant Mean - GJR-GARCH Model Results                    \n",
      "==============================================================================\n",
      "Dep. Variable:              Adj Close   R-squared:                      -0.000\n",
      "Mean Model:             Constant Mean   Adj. R-squared:                 -0.000\n",
      "Vol Model:                  GJR-GARCH   Log-Likelihood:                1057.48\n",
      "Distribution:                  Normal   AIC:                          -2104.96\n",
      "Method:            Maximum Likelihood   BIC:                          -2082.95\n",
      "                                        No. Observations:                  604\n",
      "Date:                Fri, May 08 2020   Df Residuals:                      599\n",
      "Time:                        01:32:32   Df Model:                            5\n",
      "                                 Mean Model                                 \n",
      "============================================================================\n",
      "                 coef    std err          t      P>|t|      95.0% Conf. Int.\n",
      "----------------------------------------------------------------------------\n",
      "mu         6.0798e-03  1.666e-03      3.649  2.633e-04 [2.814e-03,9.346e-03]\n",
      "                               Volatility Model                              \n",
      "=============================================================================\n",
      "                 coef    std err          t      P>|t|       95.0% Conf. Int.\n",
      "-----------------------------------------------------------------------------\n",
      "omega      5.9983e-04  9.312e-04      0.644      0.519 [-1.225e-03,2.425e-03]\n",
      "alpha[1]       0.0000      0.228      0.000      1.000      [ -0.447,  0.447]\n",
      "gamma[1]       0.3103      0.428      0.725      0.468      [ -0.528,  1.149]\n",
      "beta[1]        0.5243      0.503      1.043      0.297      [ -0.461,  1.510]\n",
      "=============================================================================\n",
      "\n",
      "Covariance estimator: robust\n"
     ]
    },
    {
     "name": "stderr",
     "output_type": "stream",
     "text": [
      "C:\\Users\\ANSHUL\\Anaconda3\\lib\\site-packages\\arch\\univariate\\base.py:293: DataScaleWarning: y is poorly scaled, which may affect convergence of the optimizer when\n",
      "estimating the model parameters. The scale of y is 0.001948. Parameter\n",
      "estimation work better when this value is between 1 and 1000. The recommended\n",
      "rescaling is 10 * y.\n",
      "\n",
      "This warning can be disabled by either rescaling y before initializing the\n",
      "model or by setting rescale=False.\n",
      "\n",
      "  data_scale_warning.format(orig_scale, rescale), DataScaleWarning\n"
     ]
    }
   ],
   "source": [
    "am = arch_model(SP_return_monthly_log, p=1, o=1, q=1)\n",
    "res = am.fit(update_freq=5, disp='off')\n",
    "print(res.summary())"
   ]
  },
  {
   "cell_type": "code",
   "execution_count": 40,
   "metadata": {
    "scrolled": true
   },
   "outputs": [
    {
     "data": {
      "text/plain": [
       "Text(0.5, 1.0, 'Realized VAR. VS Forecasted Realized VAR.')"
      ]
     },
     "execution_count": 40,
     "metadata": {},
     "output_type": "execute_result"
    },
    {
     "data": {
      "image/png": "[encoded data removed]",
      "text/plain": [
       "<Figure size 432x288 with 1 Axes>"
      ]
     },
     "metadata": {
      "needs_background": "light"
     },
     "output_type": "display_data"
    }
   ],
   "source": [
    "plt.plot(SP_vol_monthly_TS[0]**2,label=\"Realized VAR\")\n",
    "plt.plot(res.conditional_volatility**2,label=\"Forecasted VAR\")\n",
    "plt.legend()\n",
    "plt.title(\"Realized VAR. VS Forecasted Realized VAR.\")"
   ]
  },
  {
   "cell_type": "code",
   "execution_count": 41,
   "metadata": {
    "scrolled": true
   },
   "outputs": [
    {
     "name": "stdout",
     "output_type": "stream",
     "text": [
      "The RMSE of the forecast by GJR-GARCH(1,1) is: 0.02482157858988685\n",
      "The MAE of the forecast by GJR-GARCH(1,1) is: 0.009365456864398835\n"
     ]
    },
    {
     "data": {
      "image/png": "[encoded data removed]",
      "text/plain": [
       "<Figure size 432x288 with 1 Axes>"
      ]
     },
     "metadata": {
      "needs_background": "light"
     },
     "output_type": "display_data"
    }
   ],
   "source": [
    "VAR_surp=SP_vol_monthly_TS[0]**2-res.conditional_volatility[1:]**2\n",
    "plt.plot(VAR_surp)\n",
    "plt.title(\"RVAR Surprise\")\n",
    "\n",
    "VOL_surp_Garch=SP_vol_monthly_TS[0]-np.array(res.conditional_volatility[1:])\n",
    "RMSE= np.sqrt(np.sum(VOL_surp_Garch**2)/(len(VOL_surp_Garch)))\n",
    "print(\"The RMSE of the forecast by GJR-GARCH(1,1) is:\",RMSE)\n",
    "MAE=abs(np.sum(SP_vol_monthly_TS[0]-np.array(res.conditional_volatility[1:]))/len(SP_vol_monthly_TS[0]))\n",
    "print(\"The MAE of the forecast by GJR-GARCH(1,1) is:\",MAE)"
   ]
  },
  {
   "cell_type": "markdown",
   "metadata": {},
   "source": [
    "The RMSE of this model is smaller than the best GARCH model found before"
   ]
  },
  {
   "cell_type": "code",
   "execution_count": 42,
   "metadata": {
    "scrolled": true
   },
   "outputs": [
    {
     "data": {
      "text/html": [
       "<table class=\"simpletable\">\n",
       "<caption>OLS Regression Results</caption>\n",
       "<tr>\n",
       "  <th>Dep. Variable:</th>            <td>y</td>        <th>  R-squared:         </th> <td>   0.609</td> \n",
       "</tr>\n",
       "<tr>\n",
       "  <th>Model:</th>                   <td>OLS</td>       <th>  Adj. R-squared:    </th> <td>   0.608</td> \n",
       "</tr>\n",
       "<tr>\n",
       "  <th>Method:</th>             <td>Least Squares</td>  <th>  F-statistic:       </th> <td>   936.8</td> \n",
       "</tr>\n",
       "<tr>\n",
       "  <th>Date:</th>             <td>Fri, 08 May 2020</td> <th>  Prob (F-statistic):</th> <td>8.64e-125</td>\n",
       "</tr>\n",
       "<tr>\n",
       "  <th>Time:</th>                 <td>01:32:33</td>     <th>  Log-Likelihood:    </th> <td>  2686.6</td> \n",
       "</tr>\n",
       "<tr>\n",
       "  <th>No. Observations:</th>      <td>   603</td>      <th>  AIC:               </th> <td>  -5371.</td> \n",
       "</tr>\n",
       "<tr>\n",
       "  <th>Df Residuals:</th>          <td>   602</td>      <th>  BIC:               </th> <td>  -5367.</td> \n",
       "</tr>\n",
       "<tr>\n",
       "  <th>Df Model:</th>              <td>     1</td>      <th>                     </th>     <td> </td>    \n",
       "</tr>\n",
       "<tr>\n",
       "  <th>Covariance Type:</th>      <td>nonrobust</td>    <th>                     </th>     <td> </td>    \n",
       "</tr>\n",
       "</table>\n",
       "<table class=\"simpletable\">\n",
       "<tr>\n",
       "      <td></td>        <th>coef</th>     <th>std err</th>      <th>t</th>      <th>P>|t|</th>  <th>[0.025</th>    <th>0.975]</th>  \n",
       "</tr>\n",
       "<tr>\n",
       "  <th>cond_vol</th> <td>    1.3828</td> <td>    0.045</td> <td>   30.607</td> <td> 0.000</td> <td>    1.294</td> <td>    1.472</td>\n",
       "</tr>\n",
       "</table>\n",
       "<table class=\"simpletable\">\n",
       "<tr>\n",
       "  <th>Omnibus:</th>       <td>609.648</td> <th>  Durbin-Watson:     </th> <td>   2.068</td> \n",
       "</tr>\n",
       "<tr>\n",
       "  <th>Prob(Omnibus):</th> <td> 0.000</td>  <th>  Jarque-Bera (JB):  </th> <td>39470.910</td>\n",
       "</tr>\n",
       "<tr>\n",
       "  <th>Skew:</th>          <td> 4.429</td>  <th>  Prob(JB):          </th> <td>    0.00</td> \n",
       "</tr>\n",
       "<tr>\n",
       "  <th>Kurtosis:</th>      <td>41.633</td>  <th>  Cond. No.          </th> <td>    1.00</td> \n",
       "</tr>\n",
       "</table><br/><br/>Warnings:<br/>[1] Standard Errors assume that the covariance matrix of the errors is correctly specified."
      ],
      "text/plain": [
       "<class 'statsmodels.iolib.summary.Summary'>\n",
       "\"\"\"\n",
       "                            OLS Regression Results                            \n",
       "==============================================================================\n",
       "Dep. Variable:                      y   R-squared:                       0.609\n",
       "Model:                            OLS   Adj. R-squared:                  0.608\n",
       "Method:                 Least Squares   F-statistic:                     936.8\n",
       "Date:                Fri, 08 May 2020   Prob (F-statistic):          8.64e-125\n",
       "Time:                        01:32:33   Log-Likelihood:                 2686.6\n",
       "No. Observations:                 603   AIC:                            -5371.\n",
       "Df Residuals:                     602   BIC:                            -5367.\n",
       "Df Model:                           1                                         \n",
       "Covariance Type:            nonrobust                                         \n",
       "==============================================================================\n",
       "                 coef    std err          t      P>|t|      [0.025      0.975]\n",
       "------------------------------------------------------------------------------\n",
       "cond_vol       1.3828      0.045     30.607      0.000       1.294       1.472\n",
       "==============================================================================\n",
       "Omnibus:                      609.648   Durbin-Watson:                   2.068\n",
       "Prob(Omnibus):                  0.000   Jarque-Bera (JB):            39470.910\n",
       "Skew:                           4.429   Prob(JB):                         0.00\n",
       "Kurtosis:                      41.633   Cond. No.                         1.00\n",
       "==============================================================================\n",
       "\n",
       "Warnings:\n",
       "[1] Standard Errors assume that the covariance matrix of the errors is correctly specified.\n",
       "\"\"\""
      ]
     },
     "execution_count": 42,
     "metadata": {},
     "output_type": "execute_result"
    }
   ],
   "source": [
    "RVAR_on_cond=sm.OLS(SP_vol_monthly_TS[0]**2,res.conditional_volatility[1:]**2)\n",
    "result=RVAR_on_cond.fit()\n",
    "result.summary()"
   ]
  },
  {
   "cell_type": "markdown",
   "metadata": {},
   "source": [
    "The predictabiliy implied by R-squared is also better than GARCH models."
   ]
  },
  {
   "cell_type": "markdown",
   "metadata": {},
   "source": [
    "#### GE"
   ]
  },
  {
   "cell_type": "code",
   "execution_count": 43,
   "metadata": {
    "scrolled": true
   },
   "outputs": [
    {
     "name": "stdout",
     "output_type": "stream",
     "text": [
      "                   Constant Mean - GJR-GARCH Model Results                    \n",
      "==============================================================================\n",
      "Dep. Variable:              Adj Close   R-squared:                      -0.001\n",
      "Mean Model:             Constant Mean   Adj. R-squared:                 -0.001\n",
      "Vol Model:                  GJR-GARCH   Log-Likelihood:                776.269\n",
      "Distribution:                  Normal   AIC:                          -1542.54\n",
      "Method:            Maximum Likelihood   BIC:                          -1520.52\n",
      "                                        No. Observations:                  604\n",
      "Date:                Fri, May 08 2020   Df Residuals:                      599\n",
      "Time:                        01:32:33   Df Model:                            5\n",
      "                                 Mean Model                                 \n",
      "============================================================================\n",
      "                 coef    std err          t      P>|t|      95.0% Conf. Int.\n",
      "----------------------------------------------------------------------------\n",
      "mu         7.8824e-03  2.618e-03      3.011  2.602e-03 [2.752e-03,1.301e-02]\n",
      "                              Volatility Model                              \n",
      "============================================================================\n",
      "                 coef    std err          t      P>|t|      95.0% Conf. Int.\n",
      "----------------------------------------------------------------------------\n",
      "omega      3.0754e-04  1.425e-04      2.158  3.092e-02 [2.824e-05,5.868e-04]\n",
      "alpha[1]       0.0478  3.504e-02      1.365      0.172  [-2.085e-02,  0.116]\n",
      "gamma[1]       0.1394  6.510e-02      2.142  3.221e-02   [1.184e-02,  0.267]\n",
      "beta[1]        0.8265  3.588e-02     23.037 1.965e-117     [  0.756,  0.897]\n",
      "============================================================================\n",
      "\n",
      "Covariance estimator: robust\n"
     ]
    },
    {
     "name": "stderr",
     "output_type": "stream",
     "text": [
      "C:\\Users\\ANSHUL\\Anaconda3\\lib\\site-packages\\arch\\univariate\\base.py:293: DataScaleWarning: y is poorly scaled, which may affect convergence of the optimizer when\n",
      "estimating the model parameters. The scale of y is 0.00543. Parameter\n",
      "estimation work better when this value is between 1 and 1000. The recommended\n",
      "rescaling is 10 * y.\n",
      "\n",
      "This warning can be disabled by either rescaling y before initializing the\n",
      "model or by setting rescale=False.\n",
      "\n",
      "  data_scale_warning.format(orig_scale, rescale), DataScaleWarning\n"
     ]
    }
   ],
   "source": [
    "am = arch_model(GE_return_monthly_log, p=1, o=1, q=1)\n",
    "res = am.fit(update_freq=5, disp='off')\n",
    "print(res.summary())"
   ]
  },
  {
   "cell_type": "code",
   "execution_count": 44,
   "metadata": {
    "scrolled": true
   },
   "outputs": [
    {
     "data": {
      "text/plain": [
       "Text(0.5, 1.0, 'Realized VAR. VS Forecasted Realized VAR.')"
      ]
     },
     "execution_count": 44,
     "metadata": {},
     "output_type": "execute_result"
    },
    {
     "data": {
      "image/png": "[encoded data removed]",
      "text/plain": [
       "<Figure size 432x288 with 1 Axes>"
      ]
     },
     "metadata": {
      "needs_background": "light"
     },
     "output_type": "display_data"
    }
   ],
   "source": [
    "plt.plot(GE_vol_monthly_TS[0]**2,label=\"Realized VAR\")\n",
    "plt.plot(res.conditional_volatility**2,label=\"Forecasted VAR\")\n",
    "plt.legend()\n",
    "plt.title(\"Realized VAR. VS Forecasted Realized VAR.\")"
   ]
  },
  {
   "cell_type": "code",
   "execution_count": 45,
   "metadata": {
    "scrolled": true
   },
   "outputs": [
    {
     "name": "stdout",
     "output_type": "stream",
     "text": [
      "The RMSE of the forecast by GJR-GARCH(1,1) is: 0.04357811698411323\n",
      "The MAE of the forecast by GJR-GARCH(1,1) is: 0.015568669505486372\n"
     ]
    },
    {
     "data": {
      "image/png": "[encoded data removed]",
      "text/plain": [
       "<Figure size 432x288 with 1 Axes>"
      ]
     },
     "metadata": {
      "needs_background": "light"
     },
     "output_type": "display_data"
    }
   ],
   "source": [
    "VAR_surp=GE_vol_monthly_TS[0]**2-res.conditional_volatility[1:]**2\n",
    "plt.plot(VAR_surp)\n",
    "plt.title(\"RVAR Surprise\")\n",
    "\n",
    "VOL_surp_Garch=GE_vol_monthly_TS[0]-np.array(res.conditional_volatility[1:])\n",
    "RMSE= np.sqrt(np.sum(VOL_surp_Garch**2)/(len(VOL_surp_Garch)))\n",
    "print(\"The RMSE of the forecast by GJR-GARCH(1,1) is:\",RMSE)\n",
    "MAE=abs(np.sum(GE_vol_monthly_TS[0]-np.array(res.conditional_volatility[1:]))/len(SP_vol_monthly_TS[0]))\n",
    "print(\"The MAE of the forecast by GJR-GARCH(1,1) is:\",MAE)"
   ]
  },
  {
   "cell_type": "markdown",
   "metadata": {},
   "source": [
    "The RMSE of this model is smaller than the best GARCH model "
   ]
  },
  {
   "cell_type": "code",
   "execution_count": 46,
   "metadata": {
    "scrolled": true
   },
   "outputs": [
    {
     "data": {
      "text/html": [
       "<table class=\"simpletable\">\n",
       "<caption>OLS Regression Results</caption>\n",
       "<tr>\n",
       "  <th>Dep. Variable:</th>            <td>y</td>        <th>  R-squared:         </th> <td>   0.530</td> \n",
       "</tr>\n",
       "<tr>\n",
       "  <th>Model:</th>                   <td>OLS</td>       <th>  Adj. R-squared:    </th> <td>   0.529</td> \n",
       "</tr>\n",
       "<tr>\n",
       "  <th>Method:</th>             <td>Least Squares</td>  <th>  F-statistic:       </th> <td>   678.6</td> \n",
       "</tr>\n",
       "<tr>\n",
       "  <th>Date:</th>             <td>Fri, 08 May 2020</td> <th>  Prob (F-statistic):</th> <td>9.55e-101</td>\n",
       "</tr>\n",
       "<tr>\n",
       "  <th>Time:</th>                 <td>01:32:33</td>     <th>  Log-Likelihood:    </th> <td>  2011.9</td> \n",
       "</tr>\n",
       "<tr>\n",
       "  <th>No. Observations:</th>      <td>   603</td>      <th>  AIC:               </th> <td>  -4022.</td> \n",
       "</tr>\n",
       "<tr>\n",
       "  <th>Df Residuals:</th>          <td>   602</td>      <th>  BIC:               </th> <td>  -4017.</td> \n",
       "</tr>\n",
       "<tr>\n",
       "  <th>Df Model:</th>              <td>     1</td>      <th>                     </th>     <td> </td>    \n",
       "</tr>\n",
       "<tr>\n",
       "  <th>Covariance Type:</th>      <td>nonrobust</td>    <th>                     </th>     <td> </td>    \n",
       "</tr>\n",
       "</table>\n",
       "<table class=\"simpletable\">\n",
       "<tr>\n",
       "      <td></td>        <th>coef</th>     <th>std err</th>      <th>t</th>      <th>P>|t|</th>  <th>[0.025</th>    <th>0.975]</th>  \n",
       "</tr>\n",
       "<tr>\n",
       "  <th>cond_vol</th> <td>    1.2357</td> <td>    0.047</td> <td>   26.049</td> <td> 0.000</td> <td>    1.143</td> <td>    1.329</td>\n",
       "</tr>\n",
       "</table>\n",
       "<table class=\"simpletable\">\n",
       "<tr>\n",
       "  <th>Omnibus:</th>       <td>457.362</td> <th>  Durbin-Watson:     </th> <td>   2.157</td>\n",
       "</tr>\n",
       "<tr>\n",
       "  <th>Prob(Omnibus):</th> <td> 0.000</td>  <th>  Jarque-Bera (JB):  </th> <td>9818.351</td>\n",
       "</tr>\n",
       "<tr>\n",
       "  <th>Skew:</th>          <td> 3.155</td>  <th>  Prob(JB):          </th> <td>    0.00</td>\n",
       "</tr>\n",
       "<tr>\n",
       "  <th>Kurtosis:</th>      <td>21.734</td>  <th>  Cond. No.          </th> <td>    1.00</td>\n",
       "</tr>\n",
       "</table><br/><br/>Warnings:<br/>[1] Standard Errors assume that the covariance matrix of the errors is correctly specified."
      ],
      "text/plain": [
       "<class 'statsmodels.iolib.summary.Summary'>\n",
       "\"\"\"\n",
       "                            OLS Regression Results                            \n",
       "==============================================================================\n",
       "Dep. Variable:                      y   R-squared:                       0.530\n",
       "Model:                            OLS   Adj. R-squared:                  0.529\n",
       "Method:                 Least Squares   F-statistic:                     678.6\n",
       "Date:                Fri, 08 May 2020   Prob (F-statistic):          9.55e-101\n",
       "Time:                        01:32:33   Log-Likelihood:                 2011.9\n",
       "No. Observations:                 603   AIC:                            -4022.\n",
       "Df Residuals:                     602   BIC:                            -4017.\n",
       "Df Model:                           1                                         \n",
       "Covariance Type:            nonrobust                                         \n",
       "==============================================================================\n",
       "                 coef    std err          t      P>|t|      [0.025      0.975]\n",
       "------------------------------------------------------------------------------\n",
       "cond_vol       1.2357      0.047     26.049      0.000       1.143       1.329\n",
       "==============================================================================\n",
       "Omnibus:                      457.362   Durbin-Watson:                   2.157\n",
       "Prob(Omnibus):                  0.000   Jarque-Bera (JB):             9818.351\n",
       "Skew:                           3.155   Prob(JB):                         0.00\n",
       "Kurtosis:                      21.734   Cond. No.                         1.00\n",
       "==============================================================================\n",
       "\n",
       "Warnings:\n",
       "[1] Standard Errors assume that the covariance matrix of the errors is correctly specified.\n",
       "\"\"\""
      ]
     },
     "execution_count": 46,
     "metadata": {},
     "output_type": "execute_result"
    }
   ],
   "source": [
    "RVAR_on_cond=sm.OLS(GE_vol_monthly_TS[0]**2,res.conditional_volatility[1:]**2)\n",
    "result=RVAR_on_cond.fit()\n",
    "result.summary()"
   ]
  },
  {
   "cell_type": "markdown",
   "metadata": {},
   "source": [
    "The predictabiliy implied by R-squared is also better than GARCH models."
   ]
  },
  {
   "cell_type": "markdown",
   "metadata": {},
   "source": [
    "#### Summary"
   ]
  },
  {
   "cell_type": "markdown",
   "metadata": {},
   "source": [
    "S&P RMSE:<br>      AR(1):0.03047664016843632     <br>\n",
    "          GARCH(1,1):0.026171795029531743    <br>\n",
    "      GJR-GARCH(1,1):0.02482157858988685     <br>\n",
    " \n",
    " <br>\n",
    "\n",
    "MAE :<br>      AR(1):0.010484669733890698     <br>\n",
    "          GARCH(1,1):0.010026711040655369    <br>\n",
    "      GJR-GARCH(1,1):0.009365456864398835     <br>    \n",
    " <br>\n",
    "R-Squared: <br>\n",
    "          GARCH(1,1):0.427    <br>\n",
    "      GJR-GARCH(1,1):0.609     <br>    \n",
    " \n",
    " <br> <br>\n",
    " \n",
    " \n",
    " \n",
    "GE  RMSE:<br>      AR(1):0.05250647412010569     <br>\n",
    "          GARCH(1,1):0.043618959628650464    <br>\n",
    "      GJR-GARCH(1,1):0.04357811698411323     <br>\n",
    " \n",
    "MAE :<br>      AR(1):0.018356047460985906     <br>\n",
    "          GARCH(1,1):0.016167227573196274    <br>\n",
    "      GJR-GARCH(1,1):0.015568669505486372     <br>   \n",
    "      \n",
    "<br>\n",
    " <br>\n",
    "R-Squared: <br>\n",
    "          GARCH(1,1):0.498    <br>\n",
    "      GJR-GARCH(1,1):0.530     <br>    \n",
    " \n",
    " <br> \n",
    " "
   ]
  },
  {
   "cell_type": "markdown",
   "metadata": {},
   "source": [
    "The RMSE and MAE both are decreasing as we move from ARCH(1) to GARCH(1,1) and GJR-GARCH(1,1). The R-squares also improve in moving from GARCH to GJR-GARCH because the unsymmetric nature of volatility shock is captured in these models."
   ]
  },
  {
   "cell_type": "code",
   "execution_count": null,
   "metadata": {},
   "outputs": [],
   "source": []
  }
 ],
 "metadata": {
  "kernelspec": {
   "display_name": "Python 3",
   "language": "python",
   "name": "python3"
  },
  "language_info": {
   "codemirror_mode": {
    "name": "ipython",
    "version": 3
   },
   "file_extension": ".py",
   "mimetype": "text/x-python",
   "name": "python",
   "nbconvert_exporter": "python",
   "pygments_lexer": "ipython3",
   "version": "3.7.7"
  }
 },
 "nbformat": 4,
 "nbformat_minor": 4
}
